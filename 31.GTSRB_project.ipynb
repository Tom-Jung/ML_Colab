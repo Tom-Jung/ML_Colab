{
  "nbformat": 4,
  "nbformat_minor": 0,
  "metadata": {
    "colab": {
      "name": "_3 선형 모델(Linear Models).ipynb의 사본",
      "provenance": [],
      "collapsed_sections": [],
      "include_colab_link": true
    },
    "kernelspec": {
      "name": "python3",
      "display_name": "Python 3"
    },
    "accelerator": "GPU"
  },
  "cells": [
    {
      "cell_type": "markdown",
      "metadata": {
        "id": "view-in-github",
        "colab_type": "text"
      },
      "source": [
        "<a href=\"https://colab.research.google.com/github/Tom-Jung/ML_Colab/blob/main/31.GTSRB_project.ipynb\" target=\"_parent\"><img src=\"https://colab.research.google.com/assets/colab-badge.svg\" alt=\"Open In Colab\"/></a>"
      ]
    },
    {
      "cell_type": "code",
      "source": [
        "import tensorflow as tf\n",
        "from tensorflow.keras.models import Sequential\n",
        "from tensorflow.keras.layers import Dense, Dropout\n",
        "from tensorflow.keras.layers import Flatten, Conv2D, MaxPooling2D"
      ],
      "metadata": {
        "id": "A1USZUc-Orlx"
      },
      "execution_count": 1,
      "outputs": []
    },
    {
      "cell_type": "markdown",
      "source": [
        "Google Drive 에서 데이터 파일 마운트 하려면 다음과 같이 하면되지만, 프로그래밍 편의를 위해 wget 으로 직접 다운로드 함\n",
        "\n",
        "from google.colab import drive\n",
        "\n",
        "drive.mount('/content/gdrive/')\n",
        "\n",
        "import shutil\n",
        "\n",
        "shutil.copy('/content/gdrive/My Drive/Colab Notebooks/dataset/GTSRB_Final_Training_Images.zip', '/content/')"
      ],
      "metadata": {
        "id": "xPoPZJ4MQgTL"
      }
    },
    {
      "cell_type": "code",
      "source": [
        "# from google.colab import drive\n",
        "\n",
        "# drive.mount('/content/gdrive/')\n",
        "\n",
        "# import shutil\n",
        "\n",
        "# shutil.copy('/content/gdrive/My Drive/Colab Notebooks/dataset/GTSRB_Final_Training_Images.zip', '/content/')"
      ],
      "metadata": {
        "colab": {
          "base_uri": "https://localhost:8080/",
          "height": 418
        },
        "id": "_laITKqERbtY",
        "outputId": "c0ffffcb-dbd1-49cc-8587-d8f3d1e03189"
      },
      "execution_count": 3,
      "outputs": [
        {
          "output_type": "stream",
          "name": "stdout",
          "text": [
            "Drive already mounted at /content/gdrive/; to attempt to forcibly remount, call drive.mount(\"/content/gdrive/\", force_remount=True).\n"
          ]
        },
        {
          "output_type": "error",
          "ename": "FileNotFoundError",
          "evalue": "ignored",
          "traceback": [
            "\u001b[0;31m---------------------------------------------------------------------------\u001b[0m",
            "\u001b[0;31mFileNotFoundError\u001b[0m                         Traceback (most recent call last)",
            "\u001b[0;32m<ipython-input-3-ba40f00c44e9>\u001b[0m in \u001b[0;36m<module>\u001b[0;34m()\u001b[0m\n\u001b[1;32m      5\u001b[0m \u001b[0;32mimport\u001b[0m \u001b[0mshutil\u001b[0m\u001b[0;34m\u001b[0m\u001b[0;34m\u001b[0m\u001b[0m\n\u001b[1;32m      6\u001b[0m \u001b[0;34m\u001b[0m\u001b[0m\n\u001b[0;32m----> 7\u001b[0;31m \u001b[0mshutil\u001b[0m\u001b[0;34m.\u001b[0m\u001b[0mcopy\u001b[0m\u001b[0;34m(\u001b[0m\u001b[0;34m'/content/gdrive/My Drive/Colab Notebooks/dataset/GTSRB_Final_Training_Images.zip'\u001b[0m\u001b[0;34m,\u001b[0m \u001b[0;34m'/content/'\u001b[0m\u001b[0;34m)\u001b[0m\u001b[0;34m\u001b[0m\u001b[0;34m\u001b[0m\u001b[0m\n\u001b[0m",
            "\u001b[0;32m/usr/lib/python3.7/shutil.py\u001b[0m in \u001b[0;36mcopy\u001b[0;34m(src, dst, follow_symlinks)\u001b[0m\n\u001b[1;32m    246\u001b[0m     \u001b[0;32mif\u001b[0m \u001b[0mos\u001b[0m\u001b[0;34m.\u001b[0m\u001b[0mpath\u001b[0m\u001b[0;34m.\u001b[0m\u001b[0misdir\u001b[0m\u001b[0;34m(\u001b[0m\u001b[0mdst\u001b[0m\u001b[0;34m)\u001b[0m\u001b[0;34m:\u001b[0m\u001b[0;34m\u001b[0m\u001b[0;34m\u001b[0m\u001b[0m\n\u001b[1;32m    247\u001b[0m         \u001b[0mdst\u001b[0m \u001b[0;34m=\u001b[0m \u001b[0mos\u001b[0m\u001b[0;34m.\u001b[0m\u001b[0mpath\u001b[0m\u001b[0;34m.\u001b[0m\u001b[0mjoin\u001b[0m\u001b[0;34m(\u001b[0m\u001b[0mdst\u001b[0m\u001b[0;34m,\u001b[0m \u001b[0mos\u001b[0m\u001b[0;34m.\u001b[0m\u001b[0mpath\u001b[0m\u001b[0;34m.\u001b[0m\u001b[0mbasename\u001b[0m\u001b[0;34m(\u001b[0m\u001b[0msrc\u001b[0m\u001b[0;34m)\u001b[0m\u001b[0;34m)\u001b[0m\u001b[0;34m\u001b[0m\u001b[0;34m\u001b[0m\u001b[0m\n\u001b[0;32m--> 248\u001b[0;31m     \u001b[0mcopyfile\u001b[0m\u001b[0;34m(\u001b[0m\u001b[0msrc\u001b[0m\u001b[0;34m,\u001b[0m \u001b[0mdst\u001b[0m\u001b[0;34m,\u001b[0m \u001b[0mfollow_symlinks\u001b[0m\u001b[0;34m=\u001b[0m\u001b[0mfollow_symlinks\u001b[0m\u001b[0;34m)\u001b[0m\u001b[0;34m\u001b[0m\u001b[0;34m\u001b[0m\u001b[0m\n\u001b[0m\u001b[1;32m    249\u001b[0m     \u001b[0mcopymode\u001b[0m\u001b[0;34m(\u001b[0m\u001b[0msrc\u001b[0m\u001b[0;34m,\u001b[0m \u001b[0mdst\u001b[0m\u001b[0;34m,\u001b[0m \u001b[0mfollow_symlinks\u001b[0m\u001b[0;34m=\u001b[0m\u001b[0mfollow_symlinks\u001b[0m\u001b[0;34m)\u001b[0m\u001b[0;34m\u001b[0m\u001b[0;34m\u001b[0m\u001b[0m\n\u001b[1;32m    250\u001b[0m     \u001b[0;32mreturn\u001b[0m \u001b[0mdst\u001b[0m\u001b[0;34m\u001b[0m\u001b[0;34m\u001b[0m\u001b[0m\n",
            "\u001b[0;32m/usr/lib/python3.7/shutil.py\u001b[0m in \u001b[0;36mcopyfile\u001b[0;34m(src, dst, follow_symlinks)\u001b[0m\n\u001b[1;32m    118\u001b[0m         \u001b[0mos\u001b[0m\u001b[0;34m.\u001b[0m\u001b[0msymlink\u001b[0m\u001b[0;34m(\u001b[0m\u001b[0mos\u001b[0m\u001b[0;34m.\u001b[0m\u001b[0mreadlink\u001b[0m\u001b[0;34m(\u001b[0m\u001b[0msrc\u001b[0m\u001b[0;34m)\u001b[0m\u001b[0;34m,\u001b[0m \u001b[0mdst\u001b[0m\u001b[0;34m)\u001b[0m\u001b[0;34m\u001b[0m\u001b[0;34m\u001b[0m\u001b[0m\n\u001b[1;32m    119\u001b[0m     \u001b[0;32melse\u001b[0m\u001b[0;34m:\u001b[0m\u001b[0;34m\u001b[0m\u001b[0;34m\u001b[0m\u001b[0m\n\u001b[0;32m--> 120\u001b[0;31m         \u001b[0;32mwith\u001b[0m \u001b[0mopen\u001b[0m\u001b[0;34m(\u001b[0m\u001b[0msrc\u001b[0m\u001b[0;34m,\u001b[0m \u001b[0;34m'rb'\u001b[0m\u001b[0;34m)\u001b[0m \u001b[0;32mas\u001b[0m \u001b[0mfsrc\u001b[0m\u001b[0;34m:\u001b[0m\u001b[0;34m\u001b[0m\u001b[0;34m\u001b[0m\u001b[0m\n\u001b[0m\u001b[1;32m    121\u001b[0m             \u001b[0;32mwith\u001b[0m \u001b[0mopen\u001b[0m\u001b[0;34m(\u001b[0m\u001b[0mdst\u001b[0m\u001b[0;34m,\u001b[0m \u001b[0;34m'wb'\u001b[0m\u001b[0;34m)\u001b[0m \u001b[0;32mas\u001b[0m \u001b[0mfdst\u001b[0m\u001b[0;34m:\u001b[0m\u001b[0;34m\u001b[0m\u001b[0;34m\u001b[0m\u001b[0m\n\u001b[1;32m    122\u001b[0m                 \u001b[0mcopyfileobj\u001b[0m\u001b[0;34m(\u001b[0m\u001b[0mfsrc\u001b[0m\u001b[0;34m,\u001b[0m \u001b[0mfdst\u001b[0m\u001b[0;34m)\u001b[0m\u001b[0;34m\u001b[0m\u001b[0;34m\u001b[0m\u001b[0m\n",
            "\u001b[0;31mFileNotFoundError\u001b[0m: [Errno 2] No such file or directory: '/content/gdrive/My Drive/Colab Notebooks/dataset/GTSRB_Final_Training_Images.zip'"
          ]
        }
      ]
    },
    {
      "cell_type": "code",
      "source": [
        "# 파일 다운로드\n",
        "\n",
        "!wget https://sid.erda.dk/public/archives/daaeac0d7ce1152aea9b61d9f1e19370/GTSRB_Final_Training_Images.zip"
      ],
      "metadata": {
        "colab": {
          "base_uri": "https://localhost:8080/"
        },
        "id": "tcRoBWAmQTYO",
        "outputId": "d17404df-7324-46a7-f7b5-508debd0748d"
      },
      "execution_count": 4,
      "outputs": [
        {
          "output_type": "stream",
          "name": "stdout",
          "text": [
            "--2022-04-05 15:35:26--  https://sid.erda.dk/public/archives/daaeac0d7ce1152aea9b61d9f1e19370/GTSRB_Final_Training_Images.zip\n",
            "Resolving sid.erda.dk (sid.erda.dk)... 130.225.104.13\n",
            "Connecting to sid.erda.dk (sid.erda.dk)|130.225.104.13|:443... connected.\n",
            "HTTP request sent, awaiting response... 200 OK\n",
            "Length: 276294756 (263M) [application/zip]\n",
            "Saving to: ‘GTSRB_Final_Training_Images.zip’\n",
            "\n",
            "GTSRB_Final_Trainin 100%[===================>] 263.50M  11.2MB/s    in 26s     \n",
            "\n",
            "2022-04-05 15:35:54 (10.2 MB/s) - ‘GTSRB_Final_Training_Images.zip’ saved [276294756/276294756]\n",
            "\n"
          ]
        }
      ]
    },
    {
      "cell_type": "code",
      "source": [
        "# 디렉토리 설정\n",
        "import os\n",
        "\n",
        "ROOT_DIR = '/content'\n",
        "\n",
        "DATA_ROOT_DIR = os.path.join(ROOT_DIR, 'GTSRB/Final_Training/Images/')"
      ],
      "metadata": {
        "id": "K0P4UaZzQTam"
      },
      "execution_count": 5,
      "outputs": []
    },
    {
      "cell_type": "code",
      "source": [
        "import os\n",
        "import shutil\n",
        "\n",
        "if os.path.exists('/content/GTSRB/'):    # 작업 디렉토리는 GTSRB\n",
        "    \n",
        "    shutil.rmtree('/content/GTSRB/')\n",
        "    print('/content/GTSRB/  is removed !!!')"
      ],
      "metadata": {
        "id": "aUTkeyvOQTiV"
      },
      "execution_count": 6,
      "outputs": []
    },
    {
      "cell_type": "code",
      "source": [
        "# 압축파일 풀기\n",
        "\n",
        "import zipfile\n",
        "\n",
        "with zipfile.ZipFile('/content/GTSRB_Final_Training_Images.zip', 'r') as target_file:\n",
        "    \n",
        "    target_file.extractall()"
      ],
      "metadata": {
        "id": "VwaGGBnWQTks"
      },
      "execution_count": 7,
      "outputs": []
    },
    {
      "cell_type": "code",
      "source": [
        "# 데이터 전체 개수 확인\n",
        "\n",
        "import os\n",
        "import glob\n",
        "\n",
        "# 데이터 정답 (label) 개수 및 종류 확인\n",
        "\n",
        "label_name_list = os.listdir(DATA_ROOT_DIR)\n",
        "\n",
        "print('total label nums = ', len(label_name_list))\n",
        "print('=================================================')\n",
        "print(label_name_list)"
      ],
      "metadata": {
        "colab": {
          "base_uri": "https://localhost:8080/"
        },
        "id": "gH5JCbLNS2Ne",
        "outputId": "c3d32def-9b2f-454a-cab2-dfbf2e867158"
      },
      "execution_count": 8,
      "outputs": [
        {
          "output_type": "stream",
          "name": "stdout",
          "text": [
            "total label nums =  43\n",
            "=================================================\n",
            "['00006', '00033', '00018', '00003', '00041', '00005', '00015', '00030', '00000', '00023', '00031', '00002', '00042', '00012', '00039', '00021', '00019', '00010', '00007', '00022', '00029', '00009', '00013', '00011', '00038', '00028', '00014', '00025', '00004', '00024', '00017', '00035', '00026', '00036', '00008', '00001', '00027', '00040', '00016', '00032', '00037', '00034', '00020']\n"
          ]
        }
      ]
    },
    {
      "cell_type": "code",
      "source": [
        "import os\n",
        "import cv2\n",
        "import glob\n",
        "import numpy as np\n",
        "from datetime import datetime\n",
        "\n",
        "image_list = []\n",
        "label_list = []\n",
        "\n",
        "image_label_list = os.listdir(DATA_ROOT_DIR)    # 정답이름\n",
        "\n",
        "for label_name in image_label_list:\n",
        "\n",
        "    # 이미지 파일 읽어오기\n",
        "\n",
        "    file_path = os.path.join(DATA_ROOT_DIR, label_name)\n",
        "    img_file_list = glob.glob(file_path+'/*.ppm')\n",
        "\n",
        "    # 각각의 정답 디렉토리에 있는 이미지 파일, 즉 .ppm 파일 읽어서 리스트에 저장\n",
        "    \n",
        "    for img_file in img_file_list:\n",
        "\n",
        "        try:\n",
        "            src_img = cv2.imread(img_file, cv2.IMREAD_COLOR) \n",
        "            src_img = cv2.resize(src_img, dsize=(32,32))\n",
        "            src_img = cv2.cvtColor(src_img, cv2.COLOR_BGR2RGB)\n",
        "\n",
        "            image_list.append(src_img)\n",
        "            label_list.append(float(label_name))  # 정답은 문자열을 실수로 변환\n",
        "\n",
        "        except Exception as err:\n",
        "            print(str(err), img_file)\n",
        "            continue"
      ],
      "metadata": {
        "id": "rFHhyxzoS2LG"
      },
      "execution_count": 9,
      "outputs": []
    },
    {
      "cell_type": "code",
      "source": [
        "# numpy 변환\n",
        "\n",
        "x_train = np.array(image_list).astype('float32')\n",
        "y_train = np.array(label_list).astype('float32')\n",
        "\n",
        "print('x_train.shape = ', x_train.shape, ', y_train.shape = ', y_train.shape)"
      ],
      "metadata": {
        "colab": {
          "base_uri": "https://localhost:8080/"
        },
        "id": "owiBTx9iS2Im",
        "outputId": "dcdacba1-6b15-4fd1-b9c3-42e68209232b"
      },
      "execution_count": 10,
      "outputs": [
        {
          "output_type": "stream",
          "name": "stdout",
          "text": [
            "x_train.shape =  (39209, 32, 32, 3) , y_train.shape =  (39209,)\n"
          ]
        }
      ]
    },
    {
      "cell_type": "code",
      "source": [
        "import numpy as np\n",
        "\n",
        "s = np.arange(len(x_train))  # [ 0 1 2...39206 39207 39208]\n",
        "\n",
        "np.random.shuffle(s)         # index random shuffle\n",
        "\n",
        "x_train = x_train[s]\n",
        "y_train = y_train[s]"
      ],
      "metadata": {
        "id": "voxavKy7VsAQ"
      },
      "execution_count": 11,
      "outputs": []
    },
    {
      "cell_type": "markdown",
      "source": [
        "x_train.shape =  (39209, 32, 32, 3) , y_train.shape =  (39209,)\n",
        "test data 생성. train : test = 8 : 2\n",
        "\n",
        "단, 데이터 다양성을 위해서 train data 를 먼저 random shuffle 한후에 test data 생성함. 이때 주의할것은 label data 도 동일한 인덱스로 shuffle 되어야 한다는 것이다"
      ],
      "metadata": {
        "id": "51XzkhwOWJy-"
      }
    },
    {
      "cell_type": "code",
      "source": [
        "import numpy as np\n",
        "\n",
        "s = np.arange(len(x_train))  # [ 0 1 2...39206 39207 39208]\n",
        "\n",
        "np.random.shuffle(s)         # index random shuffle\n",
        "\n",
        "x_train = x_train[s]\n",
        "y_train = y_train[s]"
      ],
      "metadata": {
        "id": "J5jrGhuLVsC3"
      },
      "execution_count": 12,
      "outputs": []
    },
    {
      "cell_type": "code",
      "source": [
        "SPLIT_RATIO = 0.2    # 20%\n",
        "\n",
        "SPLIT_NUMS = int(SPLIT_RATIO*len(x_train))\n",
        "\n",
        "x_test = x_train[0:SPLIT_NUMS]\n",
        "y_test = y_train[0:SPLIT_NUMS]\n",
        "\n",
        "x_train = x_train[SPLIT_NUMS:]\n",
        "y_train = y_train[SPLIT_NUMS:]"
      ],
      "metadata": {
        "id": "78AgnkJxVsHY"
      },
      "execution_count": 13,
      "outputs": []
    },
    {
      "cell_type": "code",
      "source": [
        "print('x_train.shape = ', x_train.shape, ', y_train.shape = ', y_train.shape)\n",
        "print('x_test.shape = ', x_test.shape, ', y_test.shape = ', y_test.shape)"
      ],
      "metadata": {
        "colab": {
          "base_uri": "https://localhost:8080/"
        },
        "id": "JeI_l7bDVsJi",
        "outputId": "684a6ecd-c2f7-4b21-9e22-bec6810698cf"
      },
      "execution_count": 14,
      "outputs": [
        {
          "output_type": "stream",
          "name": "stdout",
          "text": [
            "x_train.shape =  (31368, 32, 32, 3) , y_train.shape =  (31368,)\n",
            "x_test.shape =  (7841, 32, 32, 3) , y_test.shape =  (7841,)\n"
          ]
        }
      ]
    },
    {
      "cell_type": "code",
      "source": [
        "print(y_train[:3])\n",
        "print(y_test[:3])"
      ],
      "metadata": {
        "colab": {
          "base_uri": "https://localhost:8080/"
        },
        "id": "mHVSQEvuWVUh",
        "outputId": "0aa454b9-a109-42cf-845b-bf33f2aa8b12"
      },
      "execution_count": 15,
      "outputs": [
        {
          "output_type": "stream",
          "name": "stdout",
          "text": [
            "[19. 13. 10.]\n",
            "[17.  7. 10.]\n"
          ]
        }
      ]
    },
    {
      "cell_type": "code",
      "source": [
        "# 정규화 \n",
        "\n",
        "x_train = x_train.astype(np.float32) / 255.0\n",
        "x_test = x_test.astype(np.float32) / 255.0"
      ],
      "metadata": {
        "id": "QsptAia0WVW2"
      },
      "execution_count": 16,
      "outputs": []
    },
    {
      "cell_type": "code",
      "source": [
        "import matplotlib.pyplot as plt\n",
        "\n",
        "random_index = np.random.randint(0, len(x_train), 16)    # 16개 랜덤 train 데이터 추출 \n",
        "\n",
        "plt.figure(figsize=(8,8))\n",
        "\n",
        "for pos in range(len(random_index)):\n",
        "\n",
        "    plt.subplot(4,4,pos+1)\n",
        "    plt.axis('off')\n",
        "    train_img_index = random_index[pos]\n",
        "    plt.imshow(x_train[train_img_index])\n",
        "\n",
        "plt.tight_layout()\n",
        "plt.show()"
      ],
      "metadata": {
        "colab": {
          "base_uri": "https://localhost:8080/",
          "height": 585
        },
        "id": "L8r4FH1BWVZH",
        "outputId": "6c7d66cd-078a-41ee-e00c-0258a6154763"
      },
      "execution_count": 17,
      "outputs": [
        {
          "output_type": "display_data",
          "data": {
            "text/plain": [
              "<Figure size 576x576 with 16 Axes>"
            ],
            "image/png": "[encoded data removed]"
          },
          "metadata": {
            "needs_background": "light"
          }
        }
      ]
    },
    {
      "cell_type": "code",
      "source": [
        "n_classes = len(os.listdir(DATA_ROOT_DIR))  # 정답 개수\n",
        "\n",
        "model = Sequential()\n",
        "\n",
        "model.add(Conv2D(input_shape=(32,32,3), kernel_size=(3,3), filters=32, activation='relu'))\n",
        "model.add(Conv2D(kernel_size=(3,3), filters=64, activation='relu'))\n",
        "model.add(MaxPooling2D(pool_size=(2,2)))\n",
        "model.add(Dropout(0.25))\n",
        "\n",
        "model.add(Flatten())\n",
        "\n",
        "model.add(Dense(256, activation='relu'))\n",
        "model.add(Dropout(0.5))\n",
        "model.add(Dense(n_classes, activation='softmax'))\n",
        "\n",
        "model.summary()"
      ],
      "metadata": {
        "colab": {
          "base_uri": "https://localhost:8080/"
        },
        "id": "YdyYAHMYWVa-",
        "outputId": "549ebc8b-5def-4cc0-bcf0-5b29c97403e5"
      },
      "execution_count": 18,
      "outputs": [
        {
          "output_type": "stream",
          "name": "stdout",
          "text": [
            "Model: \"sequential\"\n",
            "_________________________________________________________________\n",
            " Layer (type)                Output Shape              Param #   \n",
            "=================================================================\n",
            " conv2d (Conv2D)             (None, 30, 30, 32)        896       \n",
            "                                                                 \n",
            " conv2d_1 (Conv2D)           (None, 28, 28, 64)        18496     \n",
            "                                                                 \n",
            " max_pooling2d (MaxPooling2D  (None, 14, 14, 64)       0         \n",
            " )                                                               \n",
            "                                                                 \n",
            " dropout (Dropout)           (None, 14, 14, 64)        0         \n",
            "                                                                 \n",
            " flatten (Flatten)           (None, 12544)             0         \n",
            "                                                                 \n",
            " dense (Dense)               (None, 256)               3211520   \n",
            "                                                                 \n",
            " dropout_1 (Dropout)         (None, 256)               0         \n",
            "                                                                 \n",
            " dense_1 (Dense)             (None, 43)                11051     \n",
            "                                                                 \n",
            "=================================================================\n",
            "Total params: 3,241,963\n",
            "Trainable params: 3,241,963\n",
            "Non-trainable params: 0\n",
            "_________________________________________________________________\n"
          ]
        }
      ]
    },
    {
      "cell_type": "code",
      "source": [
        "model.compile(loss='sparse_categorical_crossentropy',\n",
        "              optimizer=tf.keras.optimizers.Adam(), metrics=['accuracy'])"
      ],
      "metadata": {
        "id": "j9aLXW1QWVdG"
      },
      "execution_count": 19,
      "outputs": []
    },
    {
      "cell_type": "code",
      "source": [
        "from tensorflow.keras.callbacks import EarlyStopping\n",
        "from datetime import datetime\n",
        "\n",
        "earlystopping = EarlyStopping(monitor='val_loss', patience=5, verbose=1)   \n",
        "\n",
        "start_time = datetime.now()\n",
        "\n",
        "hist = model.fit(x_train, y_train, batch_size=32, epochs=30, \n",
        "                 validation_data=(x_test, y_test), callbacks=[earlystopping])\n",
        "\n",
        "end_time = datetime.now()\n",
        "\n",
        "print('elapsed time => ', end_time-start_time)"
      ],
      "metadata": {
        "colab": {
          "base_uri": "https://localhost:8080/"
        },
        "id": "Rsyq6ds9W491",
        "outputId": "b10f85db-9bba-43b8-ad83-71001ebed95b"
      },
      "execution_count": 20,
      "outputs": [
        {
          "output_type": "stream",
          "name": "stdout",
          "text": [
            "Epoch 1/30\n",
            "981/981 [==============================] - 20s 11ms/step - loss: 1.0713 - accuracy: 0.7029 - val_loss: 0.1821 - val_accuracy: 0.9596\n",
            "Epoch 2/30\n",
            "981/981 [==============================] - 10s 11ms/step - loss: 0.2862 - accuracy: 0.9148 - val_loss: 0.0954 - val_accuracy: 0.9798\n",
            "Epoch 3/30\n",
            "981/981 [==============================] - 11s 11ms/step - loss: 0.1746 - accuracy: 0.9465 - val_loss: 0.0530 - val_accuracy: 0.9876\n",
            "Epoch 4/30\n",
            "981/981 [==============================] - 11s 11ms/step - loss: 0.1375 - accuracy: 0.9584 - val_loss: 0.0471 - val_accuracy: 0.9904\n",
            "Epoch 5/30\n",
            "981/981 [==============================] - 11s 11ms/step - loss: 0.1004 - accuracy: 0.9684 - val_loss: 0.0390 - val_accuracy: 0.9911\n",
            "Epoch 6/30\n",
            "981/981 [==============================] - 11s 11ms/step - loss: 0.0881 - accuracy: 0.9721 - val_loss: 0.0305 - val_accuracy: 0.9940\n",
            "Epoch 7/30\n",
            "981/981 [==============================] - 11s 11ms/step - loss: 0.0706 - accuracy: 0.9784 - val_loss: 0.0300 - val_accuracy: 0.9926\n",
            "Epoch 8/30\n",
            "981/981 [==============================] - 10s 10ms/step - loss: 0.0641 - accuracy: 0.9798 - val_loss: 0.0278 - val_accuracy: 0.9948\n",
            "Epoch 9/30\n",
            "981/981 [==============================] - 10s 10ms/step - loss: 0.0552 - accuracy: 0.9821 - val_loss: 0.0382 - val_accuracy: 0.9926\n",
            "Epoch 10/30\n",
            "981/981 [==============================] - 10s 11ms/step - loss: 0.0531 - accuracy: 0.9836 - val_loss: 0.0295 - val_accuracy: 0.9941\n",
            "Epoch 11/30\n",
            "981/981 [==============================] - 10s 11ms/step - loss: 0.0450 - accuracy: 0.9852 - val_loss: 0.0250 - val_accuracy: 0.9953\n",
            "Epoch 12/30\n",
            "981/981 [==============================] - 10s 10ms/step - loss: 0.0408 - accuracy: 0.9877 - val_loss: 0.0248 - val_accuracy: 0.9958\n",
            "Epoch 13/30\n",
            "981/981 [==============================] - 10s 11ms/step - loss: 0.0349 - accuracy: 0.9892 - val_loss: 0.0282 - val_accuracy: 0.9953\n",
            "Epoch 14/30\n",
            "981/981 [==============================] - 10s 11ms/step - loss: 0.0375 - accuracy: 0.9880 - val_loss: 0.0288 - val_accuracy: 0.9958\n",
            "Epoch 15/30\n",
            "981/981 [==============================] - 10s 10ms/step - loss: 0.0333 - accuracy: 0.9900 - val_loss: 0.0275 - val_accuracy: 0.9952\n",
            "Epoch 16/30\n",
            "981/981 [==============================] - 10s 11ms/step - loss: 0.0317 - accuracy: 0.9904 - val_loss: 0.0284 - val_accuracy: 0.9952\n",
            "Epoch 17/30\n",
            "981/981 [==============================] - 10s 10ms/step - loss: 0.0314 - accuracy: 0.9901 - val_loss: 0.0334 - val_accuracy: 0.9938\n",
            "Epoch 17: early stopping\n",
            "elapsed time =>  0:03:06.794416\n"
          ]
        }
      ]
    },
    {
      "cell_type": "code",
      "source": [
        "model.evaluate(x_test, y_test)"
      ],
      "metadata": {
        "colab": {
          "base_uri": "https://localhost:8080/"
        },
        "id": "Xhi9923gW5Ah",
        "outputId": "268e53e4-ce4a-4afd-8827-b4bd68bcfb88"
      },
      "execution_count": 21,
      "outputs": [
        {
          "output_type": "stream",
          "name": "stdout",
          "text": [
            "246/246 [==============================] - 1s 5ms/step - loss: 0.0334 - accuracy: 0.9938\n"
          ]
        },
        {
          "output_type": "execute_result",
          "data": {
            "text/plain": [
              "[0.0334416888654232, 0.993750810623169]"
            ]
          },
          "metadata": {},
          "execution_count": 21
        }
      ]
    },
    {
      "cell_type": "code",
      "source": [
        "y_pred = model.predict(x_test)\n",
        "\n",
        "print(y_pred.shape)"
      ],
      "metadata": {
        "colab": {
          "base_uri": "https://localhost:8080/"
        },
        "id": "bDmYxGwGW5DI",
        "outputId": "bff601ae-f6d5-408d-c817-1c405a966464"
      },
      "execution_count": 22,
      "outputs": [
        {
          "output_type": "stream",
          "name": "stdout",
          "text": [
            "(7841, 43)\n"
          ]
        }
      ]
    },
    {
      "cell_type": "code",
      "source": [
        "import matplotlib.pyplot as plt\n",
        "\n",
        "plt.plot(hist.history['accuracy'], label='train')\n",
        "plt.plot(hist.history['val_accuracy'], label='validation')\n",
        "plt.title('Accuracy Trend')\n",
        "plt.ylabel('accuracy')\n",
        "plt.xlabel('epoch')\n",
        "plt.legend(loc='best')\n",
        "plt.grid()\n",
        "plt.show()"
      ],
      "metadata": {
        "colab": {
          "base_uri": "https://localhost:8080/",
          "height": 295
        },
        "id": "hpkSq5PTY6Ag",
        "outputId": "ce16141a-968c-41f0-a839-122277bf8ade"
      },
      "execution_count": 23,
      "outputs": [
        {
          "output_type": "display_data",
          "data": {
            "text/plain": [
              "<Figure size 432x288 with 1 Axes>"
            ],
            "image/png": "[encoded data removed]"
          },
          "metadata": {
            "needs_background": "light"
          }
        }
      ]
    },
    {
      "cell_type": "code",
      "source": [
        "plt.plot(hist.history['loss'], label='train')\n",
        "plt.plot(hist.history['val_loss'], label='validation')\n",
        "plt.title('Loss Trend')\n",
        "plt.ylabel('loss')\n",
        "plt.xlabel('epoch')\n",
        "plt.legend(loc='best')\n",
        "plt.grid()\n",
        "plt.show()"
      ],
      "metadata": {
        "colab": {
          "base_uri": "https://localhost:8080/",
          "height": 295
        },
        "id": "7MlcoU1HY59n",
        "outputId": "a6a2c9b3-659c-4860-8ba6-83b874196610"
      },
      "execution_count": 24,
      "outputs": [
        {
          "output_type": "display_data",
          "data": {
            "text/plain": [
              "<Figure size 432x288 with 1 Axes>"
            ],
            "image/png": "[encoded data removed]"
          },
          "metadata": {
            "needs_background": "light"
          }
        }
      ]
    }
  ]
}