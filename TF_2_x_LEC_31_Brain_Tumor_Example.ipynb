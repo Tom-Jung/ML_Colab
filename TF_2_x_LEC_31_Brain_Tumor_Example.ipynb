{
  "cells": [
    {
      "cell_type": "markdown",
      "metadata": {
        "id": "view-in-github",
        "colab_type": "text"
      },
      "source": [
        "<a href=\"https://colab.research.google.com/github/Tom-Jung/ML_Colab/blob/main/TF_2_x_LEC_31_Brain_Tumor_Example.ipynb\" target=\"_parent\"><img src=\"https://colab.research.google.com/assets/colab-badge.svg\" alt=\"Open In Colab\"/></a>"
      ]
    },
    {
      "cell_type": "code",
      "source": [
        "import tensorflow as tf\n",
        "from tensorflow.keras.layers import Dropout, Dense, GlobalAveragePooling2D \n",
        "from tensorflow.keras.applications import MobileNet \n",
        "from tensorflow.keras.models import Sequential\n",
        "from tensorflow.keras.preprocessing.image import ImageDataGenerator"
      ],
      "metadata": {
        "id": "xADB77unT3Kg"
      },
      "execution_count": 1,
      "outputs": []
    },
    {
      "cell_type": "markdown",
      "source": [
        "root dir\n",
        "data root dir\n",
        "train data root dir\n",
        "test data root dir"
      ],
      "metadata": {
        "id": "m_aiXPDAT6Ye"
      }
    },
    {
      "cell_type": "code",
      "source": [
        "from google.colab import drive\n",
        "drive.mount('/content/gdrive')"
      ],
      "metadata": {
        "id": "3f_vAaYBT3M3"
      },
      "execution_count": null,
      "outputs": []
    },
    {
      "cell_type": "code",
      "source": [
        "import os\n",
        "\n",
        "ROOT_DIR = '/content'\n",
        "\n",
        "DATA_ROOT_DIR = os.path.join(ROOT_DIR, 'brain_tumor')\n",
        "\n",
        "TRAIN_DATA_ROOT_DIR = os.path.join(DATA_ROOT_DIR, 'Training')\n",
        "\n",
        "TEST_DATA_ROOT_DIR = os.path.join(DATA_ROOT_DIR, 'Testing')"
      ],
      "metadata": {
        "id": "thE48SLjT3PW"
      },
      "execution_count": 2,
      "outputs": []
    },
    {
      "cell_type": "code",
      "source": [
        "import shutil\n",
        "import os\n",
        "\n",
        "try:\n",
        "    dataset_path = '/content/gdrive/My Drive/Colab Notebooks/dataset'\n",
        "    \n",
        "    shutil.copy(os.path.join(dataset_path, 'brain_tumors.zip'), '/content')\n",
        "\n",
        "except Exception as err:\n",
        "    print(str(err))"
      ],
      "metadata": {
        "id": "FF5s2RzxVkjt"
      },
      "execution_count": 5,
      "outputs": []
    },
    {
      "cell_type": "code",
      "source": [
        "import os\n",
        "import shutil\n",
        "\n",
        "if os.path.exists(DATA_ROOT_DIR):\n",
        "    \n",
        "    shutil.rmtree(DATA_ROOT_DIR)\n",
        "    \n",
        "    print(DATA_ROOT_DIR + ' is removed !!!')"
      ],
      "metadata": {
        "id": "KAgqCylmVkfd"
      },
      "execution_count": 6,
      "outputs": []
    },
    {
      "cell_type": "code",
      "source": [
        "# 압축파일 풀기\n",
        "\n",
        "import zipfile\n",
        "\n",
        "with zipfile.ZipFile(os.path.join(ROOT_DIR, 'brain_tumors.zip'), 'r') as target_file:\n",
        "\n",
        "    target_file.extractall(DATA_ROOT_DIR) "
      ],
      "metadata": {
        "id": "r28gxJxNVkdH"
      },
      "execution_count": 8,
      "outputs": []
    },
    {
      "cell_type": "code",
      "source": [
        "import os\n",
        "\n",
        "#========================================================\n",
        "# train 정답 및 전체 데이터 개수 확인\n",
        "#========================================================\n",
        "\n",
        "train_label_name_list = os.listdir(TRAIN_DATA_ROOT_DIR)\n",
        "\n",
        "print(train_label_name_list)\n",
        "\n",
        "for label_name in train_label_name_list:\n",
        "\n",
        "    print('train label : ', label_name,' => ', len(os.listdir(os.path.join(TRAIN_DATA_ROOT_DIR, label_name))))\n",
        "\n",
        "print('=====================================================')\n",
        "\n",
        "#========================================================\n",
        "# test 정답 및 전체 데이터 개수 확인\n",
        "#========================================================\n",
        "\n",
        "test_label_name_list = os.listdir(TEST_DATA_ROOT_DIR)\n",
        "\n",
        "print(test_label_name_list)\n",
        "\n",
        "for label_name in test_label_name_list:\n",
        "\n",
        "    print('test label : ', label_name, ' => ', len(os.listdir(os.path.join(TEST_DATA_ROOT_DIR, label_name))))\n",
        "\n",
        "print('=====================================================')\n",
        "['glioma_tumor', 'meningioma_tumor', 'no_tumor', 'pituitary_tumor']\n",
        "train label :  glioma_tumor  =>  826\n",
        "train label :  meningioma_tumor  =>  822\n",
        "train label :  no_tumor  =>  395\n",
        "train label :  pituitary_tumor  =>  827\n",
        "=====================================================\n",
        "['glioma_tumor', 'meningioma_tumor', 'no_tumor', 'pituitary_tumor']\n",
        "test label :  glioma_tumor  =>  100\n",
        "test label :  meningioma_tumor  =>  115\n",
        "test label :  no_tumor  =>  105\n",
        "test label :  pituitary_tumor  =>  74\n",
        "=====================================================\n"
      ],
      "metadata": {
        "colab": {
          "base_uri": "https://localhost:8080/",
          "height": 130
        },
        "id": "chQapmZ0Vkak",
        "outputId": "949127f0-f5d0-4d0c-a691-6ce20532f1ec"
      },
      "execution_count": 9,
      "outputs": [
        {
          "output_type": "error",
          "ename": "SyntaxError",
          "evalue": "ignored",
          "traceback": [
            "\u001b[0;36m  File \u001b[0;32m\"<ipython-input-9-91b62933b3cd>\"\u001b[0;36m, line \u001b[0;32m31\u001b[0m\n\u001b[0;31m    train label :  glioma_tumor  =>  826\u001b[0m\n\u001b[0m              ^\u001b[0m\n\u001b[0;31mSyntaxError\u001b[0m\u001b[0;31m:\u001b[0m invalid syntax\n"
          ]
        }
      ]
    },
    {
      "cell_type": "code",
      "source": [
        ""
      ],
      "metadata": {
        "id": "zt5GOk7sVkX8"
      },
      "execution_count": null,
      "outputs": []
    }
  ],
  "metadata": {
    "kernelspec": {
      "display_name": "Python 3",
      "language": "python",
      "name": "python3"
    },
    "language_info": {
      "codemirror_mode": {
        "name": "ipython",
        "version": 3
      },
      "file_extension": ".py",
      "mimetype": "text/x-python",
      "name": "python",
      "nbconvert_exporter": "python",
      "pygments_lexer": "ipython3",
      "version": "3.7.6"
    },
    "colab": {
      "name": "02_end_to_end_ML_project.ipynb의 사본",
      "provenance": [],
      "collapsed_sections": [],
      "include_colab_link": true
    }
  },
  "nbformat": 4,
  "nbformat_minor": 0
}