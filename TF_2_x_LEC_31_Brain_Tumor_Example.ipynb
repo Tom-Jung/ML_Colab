{
  "cells": [
    {
      "cell_type": "markdown",
      "metadata": {
        "id": "view-in-github",
        "colab_type": "text"
      },
      "source": [
        "<a href=\"https://colab.research.google.com/github/Tom-Jung/ML_Colab/blob/main/TF_2_x_LEC_31_Brain_Tumor_Example.ipynb\" target=\"_parent\"><img src=\"https://colab.research.google.com/assets/colab-badge.svg\" alt=\"Open In Colab\"/></a>"
      ]
    },
    {
      "cell_type": "code",
      "source": [
        "import tensorflow as rf\n",
        "from tensorflow.keras.layers import Dropout, Dense, GlobalAveragePooling2D\n",
        "from tensorflow.keras.models import Sequential\n",
        "from tensorflow.keras.preprocessing.image import ImageDataGenerator"
      ],
      "metadata": {
        "id": "xADB77unT3Kg"
      },
      "execution_count": 27,
      "outputs": []
    },
    {
      "cell_type": "markdown",
      "source": [
        "root dir\n",
        "data root dir\n",
        "train data root dir\n",
        "test data root dir"
      ],
      "metadata": {
        "id": "m_aiXPDAT6Ye"
      }
    },
    {
      "cell_type": "code",
      "source": [
        "from google.colab import drive\n",
        "drive.mount('/content/gdrive')"
      ],
      "metadata": {
        "id": "3f_vAaYBT3M3",
        "outputId": "12d5d4f2-90b0-4eba-921e-a550e3b123d2",
        "colab": {
          "base_uri": "https://localhost:8080/"
        }
      },
      "execution_count": 28,
      "outputs": [
        {
          "output_type": "stream",
          "name": "stdout",
          "text": [
            "Drive already mounted at /content/gdrive; to attempt to forcibly remount, call drive.mount(\"/content/gdrive\", force_remount=True).\n"
          ]
        }
      ]
    },
    {
      "cell_type": "code",
      "source": [
        "import os\n",
        "\n",
        "ROOT_DIR = '/content'\n",
        "DATA_ROOT_DIR = os.path.join(ROOT_DIR, 'brain_tumor')\n",
        "TRAIN_DATA_ROOT_DIR = os.path.join(DATA_ROOT_DIR, 'Training')\n",
        "TEST_DATA_ROOT_DIR = os.path.join(DATA_ROOT_DIR, 'Testing')"
      ],
      "metadata": {
        "id": "thE48SLjT3PW"
      },
      "execution_count": 29,
      "outputs": []
    },
    {
      "cell_type": "markdown",
      "source": [
        "# Google Drive 마운트해서 데이터셋 가져옴"
      ],
      "metadata": {
        "id": "xa2jbuRBBpg6"
      }
    },
    {
      "cell_type": "code",
      "source": [
        "from google.colab import drive\n",
        "drive.mount('/content/gdrive')"
      ],
      "metadata": {
        "id": "FF5s2RzxVkjt",
        "outputId": "abb6548a-1c84-4450-e773-5db31427d60c",
        "colab": {
          "base_uri": "https://localhost:8080/"
        }
      },
      "execution_count": 30,
      "outputs": [
        {
          "output_type": "stream",
          "name": "stdout",
          "text": [
            "Drive already mounted at /content/gdrive; to attempt to forcibly remount, call drive.mount(\"/content/gdrive\", force_remount=True).\n"
          ]
        }
      ]
    },
    {
      "cell_type": "code",
      "source": [
        "import shutil\n",
        "import os\n",
        "\n",
        "try:\n",
        "    dataset_path = '/content/gdrive/My Drive/Colab Notebooks/dataset'\n",
        "    \n",
        "    shutil.copy(os.path.join(dataset_path, 'brain_tumors.zip'), '/content')\n",
        "\n",
        "except Exception as err:\n",
        "    print(str(err))"
      ],
      "metadata": {
        "id": "KAgqCylmVkfd"
      },
      "execution_count": 31,
      "outputs": []
    },
    {
      "cell_type": "code",
      "source": [
        "import os\n",
        "import shutil\n",
        "\n",
        "if os.path.exists(DATA_ROOT_DIR):\n",
        "   shutil.rmtree(DATA_ROOT_DIR)\n",
        "   print(DATA_ROOT_DIR + ' is removed !!!')"
      ],
      "metadata": {
        "id": "RgEfblpBCP2Z"
      },
      "execution_count": 32,
      "outputs": []
    },
    {
      "cell_type": "code",
      "source": [
        "# 압축파일 풀기\n",
        "\n",
        "import zipfile\n",
        "with zipfile.ZipFile(os.path.join(ROOT_DIR, 'brain_tumors.zip'), 'r') as target_file:\n",
        "  target_file.extractall(DATA_ROOT_DIR)"
      ],
      "metadata": {
        "id": "r28gxJxNVkdH"
      },
      "execution_count": 37,
      "outputs": []
    },
    {
      "cell_type": "markdown",
      "source": [
        "brain_tumor/Testing 확인\n",
        "brain_tumor/Training 확인"
      ],
      "metadata": {
        "id": "3HOv0__Z_n_O"
      }
    },
    {
      "cell_type": "code",
      "source": [
        "import os\n",
        "\n",
        "#========================================================\n",
        "# train 정답 및 전체 데이터 개수 확인\n",
        "#========================================================\n",
        "\n",
        "train_label_name_list = os.listdir(TRAIN_DATA_ROOT_DIR)\n",
        "\n",
        "print(train_label_name_list)\n",
        "\n",
        "for label_name in train_label_name_list:\n",
        "\n",
        "    print('train label : ', label_name,' => ', len(os.listdir(os.path.join(TRAIN_DATA_ROOT_DIR, label_name))))\n",
        "\n",
        "print('=====================================================')\n",
        "\n",
        "#========================================================\n",
        "# test 정답 및 전체 데이터 개수 확인\n",
        "#========================================================\n",
        "\n",
        "test_label_name_list = os.listdir(TEST_DATA_ROOT_DIR)\n",
        "\n",
        "print(test_label_name_list)\n",
        "\n",
        "for label_name in test_label_name_list:\n",
        "\n",
        "    print('test label : ', label_name, ' => ', len(os.listdir(os.path.join(TEST_DATA_ROOT_DIR, label_name))))\n",
        "\n",
        "print('=====================================================')\n"
      ],
      "metadata": {
        "colab": {
          "base_uri": "https://localhost:8080/"
        },
        "id": "chQapmZ0Vkak",
        "outputId": "23befe3b-2704-43ca-9505-79321141567e"
      },
      "execution_count": 43,
      "outputs": [
        {
          "output_type": "stream",
          "name": "stdout",
          "text": [
            "['glioma_tumor', 'meningioma_tumor', 'no_tumor', 'pituitary_tumor']\n",
            "train label :  glioma_tumor  =>  826\n",
            "train label :  meningioma_tumor  =>  822\n",
            "train label :  no_tumor  =>  395\n",
            "train label :  pituitary_tumor  =>  827\n",
            "=====================================================\n",
            "['glioma_tumor', 'meningioma_tumor', 'no_tumor', 'pituitary_tumor']\n",
            "test label :  glioma_tumor  =>  100\n",
            "test label :  meningioma_tumor  =>  115\n",
            "test label :  no_tumor  =>  105\n",
            "test label :  pituitary_tumor  =>  74\n",
            "=====================================================\n"
          ]
        }
      ]
    },
    {
      "cell_type": "markdown",
      "source": [
        "## Testing 디렉토리 모든 파일을 Training 동일 디렉토리로 move"
      ],
      "metadata": {
        "id": "H8y79rkRG7p9"
      }
    },
    {
      "cell_type": "code",
      "source": [
        "test_label_name_list = os.listdir(TEST_DATA_ROOT_DIR)\n",
        "print(test_label_name_list)\n",
        "\n",
        "for label_name in test_label_name_list: # Testing 디렉토리 각각의 Label에서 실행\n",
        "     test_path = os.path.join(TEST_DATA_ROOT_DIR, label_name)\n",
        "     test_file_list = os.listdir(test_path)\n",
        "     train_path = os.path.join(TRAIN_DATA_ROOT_DIR, label_name)\n",
        "     move_num =0\n",
        "     for test_image_file in test_file_list: # Testing 모든 data를 Training 디렉토리로 이동\n",
        "          shutil.move(os.path.join(test_path, test_image_file),\n",
        "                          os. path.join(train_path, test_image_file))\n",
        "          move_num=move_num+1\n",
        "\n",
        "     print(str(move_num) + 'is move to ' + label_name +'(Testing => Trainning) ')"
      ],
      "metadata": {
        "id": "zt5GOk7sVkX8",
        "outputId": "09b8f4ec-4738-4a97-cc5a-7e5a0202a47a",
        "colab": {
          "base_uri": "https://localhost:8080/"
        }
      },
      "execution_count": 53,
      "outputs": [
        {
          "output_type": "stream",
          "name": "stdout",
          "text": [
            "['glioma_tumor', 'meningioma_tumor', 'no_tumor', 'pituitary_tumor']\n",
            "100is move to glioma_tumor(Testing => Trainning) \n",
            "115is move to meningioma_tumor(Testing => Trainning) \n",
            "105is move to no_tumor(Testing => Trainning) \n",
            "74is move to pituitary_tumor(Testing => Trainning) \n"
          ]
        }
      ]
    },
    {
      "cell_type": "markdown",
      "source": [
        "# move 완료된 train 전체 데이터 개수 확인"
      ],
      "metadata": {
        "id": "x5AcTIk_JNwd"
      }
    },
    {
      "cell_type": "code",
      "source": [
        "#========================================================\n",
        "# train 정답 및 전체 데이터 개수 확인\n",
        "#========================================================\n",
        "\n",
        "train_label_name_list = os.listdir(TRAIN_DATA_ROOT_DIR)\n",
        "print(train_label_name_list)\n",
        "for label_name in train_label_name_list:\n",
        "    print('train label : ', label_name, '=>', len(os.listdir(os.path.join(TRAIN_DATA_ROOT_DIR, label_name))))\n",
        "\n",
        "print('=========================================================')"
      ],
      "metadata": {
        "id": "A7_fQpVhJMO_",
        "outputId": "3d02d273-8f37-43b4-ccce-c29317cfdbe4",
        "colab": {
          "base_uri": "https://localhost:8080/"
        }
      },
      "execution_count": 59,
      "outputs": [
        {
          "output_type": "stream",
          "name": "stdout",
          "text": [
            "['glioma_tumor', 'meningioma_tumor', 'no_tumor', 'pituitary_tumor']\n",
            "train label :  glioma_tumor => 926\n",
            "train label :  meningioma_tumor => 937\n",
            "train label :  no_tumor => 396\n",
            "train label :  pituitary_tumor => 901\n",
            "=========================================================\n"
          ]
        }
      ]
    },
    {
      "cell_type": "markdown",
      "source": [
        "# Move 비율 설정"
      ],
      "metadata": {
        "id": "SBWyLJk1KPRU"
      }
    },
    {
      "cell_type": "code",
      "source": [
        "import os\n",
        "import shutil\n",
        "import random\n",
        "\n",
        "MOVE_RATIO = 0.2  # train:test = 80:20, 즉 train 데이터 20%를 test 데이터로 사용\n",
        "\n",
        "# 파일 move train_data_dir => test_data_dir\n",
        "\n",
        "label_name_list = os.listdir(TRAIN_DATA_ROOT_DIR)\n",
        "for label_name in label_name_list:\n",
        "  #파일 move 하기 위한 src_dir_path, dst_dir_path 설정\n",
        "  #==================================\n",
        "    src_dir_path = os.path.join(TRAIN_DATA_ROOT_DIR, label_name)\n",
        "    dst_dir_path = os.path.join(TEST_DATA_ROOT_DIR, label_name)\n",
        "  #==================================\n",
        "     train_data_file_list = os.listdir(src_dir_path)\n",
        "     random.shuffle(train_data_file_list)   # data shuffle\n",
        "     split_num=int(MOVE_RATIO*len(train_data_file_list))\n",
        "     test_data_file_list=train_data_file_list[0:split_num]\n",
        "     for test_data_file in test_data_file_list:\n",
        "       try:\n",
        "         shutil.move(os.path.join(src_dir_path, test_data_file),\n",
        "                         os.path.join(dst_dir_path))"
      ],
      "metadata": {
        "id": "RcOWxTsZJMMg"
      },
      "execution_count": null,
      "outputs": []
    },
    {
      "cell_type": "code",
      "source": [
        ""
      ],
      "metadata": {
        "id": "YCYLAZZxJMKZ"
      },
      "execution_count": null,
      "outputs": []
    },
    {
      "cell_type": "code",
      "source": [
        ""
      ],
      "metadata": {
        "id": "ZZgZ8sU8JMH3"
      },
      "execution_count": null,
      "outputs": []
    },
    {
      "cell_type": "code",
      "source": [
        ""
      ],
      "metadata": {
        "id": "8Ear3isaJMFX"
      },
      "execution_count": null,
      "outputs": []
    }
  ],
  "metadata": {
    "kernelspec": {
      "display_name": "Python 3",
      "language": "python",
      "name": "python3"
    },
    "language_info": {
      "codemirror_mode": {
        "name": "ipython",
        "version": 3
      },
      "file_extension": ".py",
      "mimetype": "text/x-python",
      "name": "python",
      "nbconvert_exporter": "python",
      "pygments_lexer": "ipython3",
      "version": "3.7.6"
    },
    "colab": {
      "name": "02_end_to_end_ML_project.ipynb의 사본",
      "provenance": [],
      "collapsed_sections": [],
      "include_colab_link": true
    }
  },
  "nbformat": 4,
  "nbformat_minor": 0
}