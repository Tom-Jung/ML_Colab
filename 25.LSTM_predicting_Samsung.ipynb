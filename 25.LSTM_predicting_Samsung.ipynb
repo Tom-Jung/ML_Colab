{
  "cells": [
    {
      "cell_type": "markdown",
      "metadata": {
        "id": "view-in-github",
        "colab_type": "text"
      },
      "source": [
        "<a href=\"https://colab.research.google.com/github/Tom-Jung/ML_Colab/blob/main/25.LSTM_predicting_Samsung.ipynb\" target=\"_parent\"><img src=\"https://colab.research.google.com/assets/colab-badge.svg\" alt=\"Open In Colab\"/></a>"
      ]
    },
    {
      "cell_type": "code",
      "source": [
        "import tensorflow as tf\n",
        "import numpy as np\n",
        "import pandas as pd\n",
        "import matplotlib.pyplot as plt\n",
        "from tensorflow.keras.models import Sequential\n",
        "from tensorflow.keras.layers import LSTM, Dense, Dropout"
      ],
      "metadata": {
        "id": "a6FGQ5iw3aDH"
      },
      "execution_count": 113,
      "outputs": []
    },
    {
      "cell_type": "code",
      "source": [
        "url = 'https://raw.githubusercontent.com/neowizard2018/neowizard/master/TensorFlow2/005930.KS_3MA_5MA.csv'\n",
        "raw_df = pd.read_csv(url)\n",
        "raw_df.head()"
      ],
      "metadata": {
        "colab": {
          "base_uri": "https://localhost:8080/",
          "height": 206
        },
        "id": "fDbro-N2_zoU",
        "outputId": "d11ecf58-5f13-4960-d5d9-13006abbe19d"
      },
      "execution_count": 114,
      "outputs": [
        {
          "output_type": "execute_result",
          "data": {
            "text/plain": [
              "         Date    Open    High     Low   Close    Adj Close      Volume  \\\n",
              "0  2000-01-04  6000.0  6110.0  5660.0  6110.0  4740.119629  74195000.0   \n",
              "1  2000-01-05  5800.0  6060.0  5520.0  5580.0  4328.947754  74680000.0   \n",
              "2  2000-01-06  5750.0  5780.0  5580.0  5620.0  4359.979492  54390000.0   \n",
              "3  2000-01-07  5560.0  5670.0  5360.0  5540.0  4297.916992  40305000.0   \n",
              "4  2000-01-10  5600.0  5770.0  5580.0  5770.0  4476.349121  46880000.0   \n",
              "\n",
              "           3MA          5MA  \n",
              "0          NaN          NaN  \n",
              "1          NaN          NaN  \n",
              "2  4476.348958          NaN  \n",
              "3  4328.948079          NaN  \n",
              "4  4378.081868  4440.662598  "
            ],
            "text/html": [
              "\n",
              "  <div id=\"df-c28bf43f-b7ab-46f3-b505-0215701bf22c\">\n",
              "    <div class=\"colab-df-container\">\n",
              "      <div>\n",
              "<style scoped>\n",
              "    .dataframe tbody tr th:only-of-type {\n",
              "        vertical-align: middle;\n",
              "    }\n",
              "\n",
              "    .dataframe tbody tr th {\n",
              "        vertical-align: top;\n",
              "    }\n",
              "\n",
              "    .dataframe thead th {\n",
              "        text-align: right;\n",
              "    }\n",
              "</style>\n",
              "<table border=\"1\" class=\"dataframe\">\n",
              "  <thead>\n",
              "    <tr style=\"text-align: right;\">\n",
              "      <th></th>\n",
              "      <th>Date</th>\n",
              "      <th>Open</th>\n",
              "      <th>High</th>\n",
              "      <th>Low</th>\n",
              "      <th>Close</th>\n",
              "      <th>Adj Close</th>\n",
              "      <th>Volume</th>\n",
              "      <th>3MA</th>\n",
              "      <th>5MA</th>\n",
              "    </tr>\n",
              "  </thead>\n",
              "  <tbody>\n",
              "    <tr>\n",
              "      <th>0</th>\n",
              "      <td>2000-01-04</td>\n",
              "      <td>6000.0</td>\n",
              "      <td>6110.0</td>\n",
              "      <td>5660.0</td>\n",
              "      <td>6110.0</td>\n",
              "      <td>4740.119629</td>\n",
              "      <td>74195000.0</td>\n",
              "      <td>NaN</td>\n",
              "      <td>NaN</td>\n",
              "    </tr>\n",
              "    <tr>\n",
              "      <th>1</th>\n",
              "      <td>2000-01-05</td>\n",
              "      <td>5800.0</td>\n",
              "      <td>6060.0</td>\n",
              "      <td>5520.0</td>\n",
              "      <td>5580.0</td>\n",
              "      <td>4328.947754</td>\n",
              "      <td>74680000.0</td>\n",
              "      <td>NaN</td>\n",
              "      <td>NaN</td>\n",
              "    </tr>\n",
              "    <tr>\n",
              "      <th>2</th>\n",
              "      <td>2000-01-06</td>\n",
              "      <td>5750.0</td>\n",
              "      <td>5780.0</td>\n",
              "      <td>5580.0</td>\n",
              "      <td>5620.0</td>\n",
              "      <td>4359.979492</td>\n",
              "      <td>54390000.0</td>\n",
              "      <td>4476.348958</td>\n",
              "      <td>NaN</td>\n",
              "    </tr>\n",
              "    <tr>\n",
              "      <th>3</th>\n",
              "      <td>2000-01-07</td>\n",
              "      <td>5560.0</td>\n",
              "      <td>5670.0</td>\n",
              "      <td>5360.0</td>\n",
              "      <td>5540.0</td>\n",
              "      <td>4297.916992</td>\n",
              "      <td>40305000.0</td>\n",
              "      <td>4328.948079</td>\n",
              "      <td>NaN</td>\n",
              "    </tr>\n",
              "    <tr>\n",
              "      <th>4</th>\n",
              "      <td>2000-01-10</td>\n",
              "      <td>5600.0</td>\n",
              "      <td>5770.0</td>\n",
              "      <td>5580.0</td>\n",
              "      <td>5770.0</td>\n",
              "      <td>4476.349121</td>\n",
              "      <td>46880000.0</td>\n",
              "      <td>4378.081868</td>\n",
              "      <td>4440.662598</td>\n",
              "    </tr>\n",
              "  </tbody>\n",
              "</table>\n",
              "</div>\n",
              "      <button class=\"colab-df-convert\" onclick=\"convertToInteractive('df-c28bf43f-b7ab-46f3-b505-0215701bf22c')\"\n",
              "              title=\"Convert this dataframe to an interactive table.\"\n",
              "              style=\"display:none;\">\n",
              "        \n",
              "  <svg xmlns=\"http://www.w3.org/2000/svg\" height=\"24px\"viewBox=\"0 0 24 24\"\n",
              "       width=\"24px\">\n",
              "    <path d=\"M0 0h24v24H0V0z\" fill=\"none\"/>\n",
              "    <path d=\"M18.56 5.44l.94 2.06.94-2.06 2.06-.94-2.06-.94-.94-2.06-.94 2.06-2.06.94zm-11 1L8.5 8.5l.94-2.06 2.06-.94-2.06-.94L8.5 2.5l-.94 2.06-2.06.94zm10 10l.94 2.06.94-2.06 2.06-.94-2.06-.94-.94-2.06-.94 2.06-2.06.94z\"/><path d=\"M17.41 7.96l-1.37-1.37c-.4-.4-.92-.59-1.43-.59-.52 0-1.04.2-1.43.59L10.3 9.45l-7.72 7.72c-.78.78-.78 2.05 0 2.83L4 21.41c.39.39.9.59 1.41.59.51 0 1.02-.2 1.41-.59l7.78-7.78 2.81-2.81c.8-.78.8-2.07 0-2.86zM5.41 20L4 18.59l7.72-7.72 1.47 1.35L5.41 20z\"/>\n",
              "  </svg>\n",
              "      </button>\n",
              "      \n",
              "  <style>\n",
              "    .colab-df-container {\n",
              "      display:flex;\n",
              "      flex-wrap:wrap;\n",
              "      gap: 12px;\n",
              "    }\n",
              "\n",
              "    .colab-df-convert {\n",
              "      background-color: #E8F0FE;\n",
              "      border: none;\n",
              "      border-radius: 50%;\n",
              "      cursor: pointer;\n",
              "      display: none;\n",
              "      fill: #1967D2;\n",
              "      height: 32px;\n",
              "      padding: 0 0 0 0;\n",
              "      width: 32px;\n",
              "    }\n",
              "\n",
              "    .colab-df-convert:hover {\n",
              "      background-color: #E2EBFA;\n",
              "      box-shadow: 0px 1px 2px rgba(60, 64, 67, 0.3), 0px 1px 3px 1px rgba(60, 64, 67, 0.15);\n",
              "      fill: #174EA6;\n",
              "    }\n",
              "\n",
              "    [theme=dark] .colab-df-convert {\n",
              "      background-color: #3B4455;\n",
              "      fill: #D2E3FC;\n",
              "    }\n",
              "\n",
              "    [theme=dark] .colab-df-convert:hover {\n",
              "      background-color: #434B5C;\n",
              "      box-shadow: 0px 1px 3px 1px rgba(0, 0, 0, 0.15);\n",
              "      filter: drop-shadow(0px 1px 2px rgba(0, 0, 0, 0.3));\n",
              "      fill: #FFFFFF;\n",
              "    }\n",
              "  </style>\n",
              "\n",
              "      <script>\n",
              "        const buttonEl =\n",
              "          document.querySelector('#df-c28bf43f-b7ab-46f3-b505-0215701bf22c button.colab-df-convert');\n",
              "        buttonEl.style.display =\n",
              "          google.colab.kernel.accessAllowed ? 'block' : 'none';\n",
              "\n",
              "        async function convertToInteractive(key) {\n",
              "          const element = document.querySelector('#df-c28bf43f-b7ab-46f3-b505-0215701bf22c');\n",
              "          const dataTable =\n",
              "            await google.colab.kernel.invokeFunction('convertToInteractive',\n",
              "                                                     [key], {});\n",
              "          if (!dataTable) return;\n",
              "\n",
              "          const docLinkHtml = 'Like what you see? Visit the ' +\n",
              "            '<a target=\"_blank\" href=https://colab.research.google.com/notebooks/data_table.ipynb>data table notebook</a>'\n",
              "            + ' to learn more about interactive tables.';\n",
              "          element.innerHTML = '';\n",
              "          dataTable['output_type'] = 'display_data';\n",
              "          await google.colab.output.renderOutput(dataTable, element);\n",
              "          const docLink = document.createElement('div');\n",
              "          docLink.innerHTML = docLinkHtml;\n",
              "          element.appendChild(docLink);\n",
              "        }\n",
              "      </script>\n",
              "    </div>\n",
              "  </div>\n",
              "  "
            ]
          },
          "metadata": {},
          "execution_count": 114
        }
      ]
    },
    {
      "cell_type": "code",
      "source": [
        "plt.figure(figsize=(7,4))\n",
        "\n",
        "plt.title('Samsung electronics stock price')\n",
        "plt.ylabel('price(won)')\n",
        "plt.xlabel('period(day)')\n",
        "\n",
        "plt.grid()\n",
        "plt.plot(raw_df['Adj Close'], label = 'Adj Close', color='b')\n",
        "plt.legend(loc='best')\n",
        "\n",
        "plt.show()"
      ],
      "metadata": {
        "colab": {
          "base_uri": "https://localhost:8080/",
          "height": 295
        },
        "id": "lJqJbJnH_zqs",
        "outputId": "8dfc178f-ff0a-439a-9f2e-cb65d1d9173d"
      },
      "execution_count": 115,
      "outputs": [
        {
          "output_type": "display_data",
          "data": {
            "text/plain": [
              "<Figure size 504x288 with 1 Axes>"
            ],
            "image/png": "[encoded data removed]"
          },
          "metadata": {
            "needs_background": "light"
          }
        }
      ]
    },
    {
      "cell_type": "code",
      "source": [
        "raw_df.describe()"
      ],
      "metadata": {
        "colab": {
          "base_uri": "https://localhost:8080/",
          "height": 300
        },
        "id": "Kvd1E3lG_ztF",
        "outputId": "b72dee9d-624a-4d0e-eca0-bf45a84bbdef"
      },
      "execution_count": 116,
      "outputs": [
        {
          "output_type": "execute_result",
          "data": {
            "text/plain": [
              "               Open          High           Low         Close     Adj Close  \\\n",
              "count   5389.000000   5389.000000   5389.000000   5389.000000   5389.000000   \n",
              "mean   22801.887178  23043.991464  22559.285582  22801.909445  19920.044863   \n",
              "std    17736.201238  17906.827402  17572.109940  17733.296811  17322.636387   \n",
              "min     2540.000000   2760.000000   2420.000000   2730.000000   2117.926025   \n",
              "25%     9880.000000   9990.000000   9800.000000   9900.000000   7726.937988   \n",
              "50%    15760.000000  15940.000000  15560.000000  15800.000000  12808.596680   \n",
              "75%    29280.000000  29560.000000  29000.000000  29280.000000  24566.556640   \n",
              "max    90300.000000  96800.000000  89500.000000  91000.000000  90597.414060   \n",
              "\n",
              "             Volume           3MA           5MA  \n",
              "count  5.389000e+03   5393.000000   5391.000000  \n",
              "mean   2.207838e+07  19934.224878  19925.585966  \n",
              "std    1.564053e+07  17313.297249  17292.697383  \n",
              "min    0.000000e+00   2164.473877   2179.989746  \n",
              "25%    1.185265e+07   7726.939453   7709.871631  \n",
              "50%    1.803935e+07  12802.806970  12809.314840  \n",
              "75%    2.771475e+07  24558.166020  24555.269140  \n",
              "max    1.642150e+08  90033.252600  89562.014060  "
            ],
            "text/html": [
              "\n",
              "  <div id=\"df-75eedfa6-db17-490e-ba89-c9cf56d3f47e\">\n",
              "    <div class=\"colab-df-container\">\n",
              "      <div>\n",
              "<style scoped>\n",
              "    .dataframe tbody tr th:only-of-type {\n",
              "        vertical-align: middle;\n",
              "    }\n",
              "\n",
              "    .dataframe tbody tr th {\n",
              "        vertical-align: top;\n",
              "    }\n",
              "\n",
              "    .dataframe thead th {\n",
              "        text-align: right;\n",
              "    }\n",
              "</style>\n",
              "<table border=\"1\" class=\"dataframe\">\n",
              "  <thead>\n",
              "    <tr style=\"text-align: right;\">\n",
              "      <th></th>\n",
              "      <th>Open</th>\n",
              "      <th>High</th>\n",
              "      <th>Low</th>\n",
              "      <th>Close</th>\n",
              "      <th>Adj Close</th>\n",
              "      <th>Volume</th>\n",
              "      <th>3MA</th>\n",
              "      <th>5MA</th>\n",
              "    </tr>\n",
              "  </thead>\n",
              "  <tbody>\n",
              "    <tr>\n",
              "      <th>count</th>\n",
              "      <td>5389.000000</td>\n",
              "      <td>5389.000000</td>\n",
              "      <td>5389.000000</td>\n",
              "      <td>5389.000000</td>\n",
              "      <td>5389.000000</td>\n",
              "      <td>5.389000e+03</td>\n",
              "      <td>5393.000000</td>\n",
              "      <td>5391.000000</td>\n",
              "    </tr>\n",
              "    <tr>\n",
              "      <th>mean</th>\n",
              "      <td>22801.887178</td>\n",
              "      <td>23043.991464</td>\n",
              "      <td>22559.285582</td>\n",
              "      <td>22801.909445</td>\n",
              "      <td>19920.044863</td>\n",
              "      <td>2.207838e+07</td>\n",
              "      <td>19934.224878</td>\n",
              "      <td>19925.585966</td>\n",
              "    </tr>\n",
              "    <tr>\n",
              "      <th>std</th>\n",
              "      <td>17736.201238</td>\n",
              "      <td>17906.827402</td>\n",
              "      <td>17572.109940</td>\n",
              "      <td>17733.296811</td>\n",
              "      <td>17322.636387</td>\n",
              "      <td>1.564053e+07</td>\n",
              "      <td>17313.297249</td>\n",
              "      <td>17292.697383</td>\n",
              "    </tr>\n",
              "    <tr>\n",
              "      <th>min</th>\n",
              "      <td>2540.000000</td>\n",
              "      <td>2760.000000</td>\n",
              "      <td>2420.000000</td>\n",
              "      <td>2730.000000</td>\n",
              "      <td>2117.926025</td>\n",
              "      <td>0.000000e+00</td>\n",
              "      <td>2164.473877</td>\n",
              "      <td>2179.989746</td>\n",
              "    </tr>\n",
              "    <tr>\n",
              "      <th>25%</th>\n",
              "      <td>9880.000000</td>\n",
              "      <td>9990.000000</td>\n",
              "      <td>9800.000000</td>\n",
              "      <td>9900.000000</td>\n",
              "      <td>7726.937988</td>\n",
              "      <td>1.185265e+07</td>\n",
              "      <td>7726.939453</td>\n",
              "      <td>7709.871631</td>\n",
              "    </tr>\n",
              "    <tr>\n",
              "      <th>50%</th>\n",
              "      <td>15760.000000</td>\n",
              "      <td>15940.000000</td>\n",
              "      <td>15560.000000</td>\n",
              "      <td>15800.000000</td>\n",
              "      <td>12808.596680</td>\n",
              "      <td>1.803935e+07</td>\n",
              "      <td>12802.806970</td>\n",
              "      <td>12809.314840</td>\n",
              "    </tr>\n",
              "    <tr>\n",
              "      <th>75%</th>\n",
              "      <td>29280.000000</td>\n",
              "      <td>29560.000000</td>\n",
              "      <td>29000.000000</td>\n",
              "      <td>29280.000000</td>\n",
              "      <td>24566.556640</td>\n",
              "      <td>2.771475e+07</td>\n",
              "      <td>24558.166020</td>\n",
              "      <td>24555.269140</td>\n",
              "    </tr>\n",
              "    <tr>\n",
              "      <th>max</th>\n",
              "      <td>90300.000000</td>\n",
              "      <td>96800.000000</td>\n",
              "      <td>89500.000000</td>\n",
              "      <td>91000.000000</td>\n",
              "      <td>90597.414060</td>\n",
              "      <td>1.642150e+08</td>\n",
              "      <td>90033.252600</td>\n",
              "      <td>89562.014060</td>\n",
              "    </tr>\n",
              "  </tbody>\n",
              "</table>\n",
              "</div>\n",
              "      <button class=\"colab-df-convert\" onclick=\"convertToInteractive('df-75eedfa6-db17-490e-ba89-c9cf56d3f47e')\"\n",
              "              title=\"Convert this dataframe to an interactive table.\"\n",
              "              style=\"display:none;\">\n",
              "        \n",
              "  <svg xmlns=\"http://www.w3.org/2000/svg\" height=\"24px\"viewBox=\"0 0 24 24\"\n",
              "       width=\"24px\">\n",
              "    <path d=\"M0 0h24v24H0V0z\" fill=\"none\"/>\n",
              "    <path d=\"M18.56 5.44l.94 2.06.94-2.06 2.06-.94-2.06-.94-.94-2.06-.94 2.06-2.06.94zm-11 1L8.5 8.5l.94-2.06 2.06-.94-2.06-.94L8.5 2.5l-.94 2.06-2.06.94zm10 10l.94 2.06.94-2.06 2.06-.94-2.06-.94-.94-2.06-.94 2.06-2.06.94z\"/><path d=\"M17.41 7.96l-1.37-1.37c-.4-.4-.92-.59-1.43-.59-.52 0-1.04.2-1.43.59L10.3 9.45l-7.72 7.72c-.78.78-.78 2.05 0 2.83L4 21.41c.39.39.9.59 1.41.59.51 0 1.02-.2 1.41-.59l7.78-7.78 2.81-2.81c.8-.78.8-2.07 0-2.86zM5.41 20L4 18.59l7.72-7.72 1.47 1.35L5.41 20z\"/>\n",
              "  </svg>\n",
              "      </button>\n",
              "      \n",
              "  <style>\n",
              "    .colab-df-container {\n",
              "      display:flex;\n",
              "      flex-wrap:wrap;\n",
              "      gap: 12px;\n",
              "    }\n",
              "\n",
              "    .colab-df-convert {\n",
              "      background-color: #E8F0FE;\n",
              "      border: none;\n",
              "      border-radius: 50%;\n",
              "      cursor: pointer;\n",
              "      display: none;\n",
              "      fill: #1967D2;\n",
              "      height: 32px;\n",
              "      padding: 0 0 0 0;\n",
              "      width: 32px;\n",
              "    }\n",
              "\n",
              "    .colab-df-convert:hover {\n",
              "      background-color: #E2EBFA;\n",
              "      box-shadow: 0px 1px 2px rgba(60, 64, 67, 0.3), 0px 1px 3px 1px rgba(60, 64, 67, 0.15);\n",
              "      fill: #174EA6;\n",
              "    }\n",
              "\n",
              "    [theme=dark] .colab-df-convert {\n",
              "      background-color: #3B4455;\n",
              "      fill: #D2E3FC;\n",
              "    }\n",
              "\n",
              "    [theme=dark] .colab-df-convert:hover {\n",
              "      background-color: #434B5C;\n",
              "      box-shadow: 0px 1px 3px 1px rgba(0, 0, 0, 0.15);\n",
              "      filter: drop-shadow(0px 1px 2px rgba(0, 0, 0, 0.3));\n",
              "      fill: #FFFFFF;\n",
              "    }\n",
              "  </style>\n",
              "\n",
              "      <script>\n",
              "        const buttonEl =\n",
              "          document.querySelector('#df-75eedfa6-db17-490e-ba89-c9cf56d3f47e button.colab-df-convert');\n",
              "        buttonEl.style.display =\n",
              "          google.colab.kernel.accessAllowed ? 'block' : 'none';\n",
              "\n",
              "        async function convertToInteractive(key) {\n",
              "          const element = document.querySelector('#df-75eedfa6-db17-490e-ba89-c9cf56d3f47e');\n",
              "          const dataTable =\n",
              "            await google.colab.kernel.invokeFunction('convertToInteractive',\n",
              "                                                     [key], {});\n",
              "          if (!dataTable) return;\n",
              "\n",
              "          const docLinkHtml = 'Like what you see? Visit the ' +\n",
              "            '<a target=\"_blank\" href=https://colab.research.google.com/notebooks/data_table.ipynb>data table notebook</a>'\n",
              "            + ' to learn more about interactive tables.';\n",
              "          element.innerHTML = '';\n",
              "          dataTable['output_type'] = 'display_data';\n",
              "          await google.colab.output.renderOutput(dataTable, element);\n",
              "          const docLink = document.createElement('div');\n",
              "          docLink.innerHTML = docLinkHtml;\n",
              "          element.appendChild(docLink);\n",
              "        }\n",
              "      </script>\n",
              "    </div>\n",
              "  </div>\n",
              "  "
            ]
          },
          "metadata": {},
          "execution_count": 116
        }
      ]
    },
    {
      "cell_type": "code",
      "source": [
        "raw_df.isnull().sum()"
      ],
      "metadata": {
        "colab": {
          "base_uri": "https://localhost:8080/"
        },
        "id": "o8G6Z9K9CJLS",
        "outputId": "0dc64b4c-71c5-41c6-9594-a177a409224e"
      },
      "execution_count": 117,
      "outputs": [
        {
          "output_type": "execute_result",
          "data": {
            "text/plain": [
              "Date         0\n",
              "Open         6\n",
              "High         6\n",
              "Low          6\n",
              "Close        6\n",
              "Adj Close    6\n",
              "Volume       6\n",
              "3MA          2\n",
              "5MA          4\n",
              "dtype: int64"
            ]
          },
          "metadata": {},
          "execution_count": 117
        }
      ]
    },
    {
      "cell_type": "code",
      "source": [
        "raw_df.loc[raw_df['Open'].isna()]"
      ],
      "metadata": {
        "colab": {
          "base_uri": "https://localhost:8080/",
          "height": 238
        },
        "id": "bJqxzfaGCJN4",
        "outputId": "d86694d8-5e81-489d-c2e6-3d6860561638"
      },
      "execution_count": 118,
      "outputs": [
        {
          "output_type": "execute_result",
          "data": {
            "text/plain": [
              "            Date  Open  High  Low  Close  Adj Close  Volume           3MA  \\\n",
              "1304  2005-01-03   NaN   NaN  NaN    NaN        NaN     NaN   6989.931152   \n",
              "4513  2017-11-16   NaN   NaN  NaN    NaN        NaN     NaN  49382.673830   \n",
              "4518  2017-11-23   NaN   NaN  NaN    NaN        NaN     NaN  49373.792970   \n",
              "4542  2018-01-02   NaN   NaN  NaN    NaN        NaN     NaN  44927.763670   \n",
              "4755  2018-11-15   NaN   NaN  NaN    NaN        NaN     NaN  40569.835940   \n",
              "5000  2019-11-14   NaN   NaN  NaN    NaN        NaN     NaN  49695.419920   \n",
              "\n",
              "               5MA  \n",
              "1304   6910.412353  \n",
              "4513  49719.997070  \n",
              "4518  49324.969730  \n",
              "4542  44190.302730  \n",
              "4755  40775.886720  \n",
              "5000  49364.432620  "
            ],
            "text/html": [
              "\n",
              "  <div id=\"df-3b97ed54-b7cc-42e9-bbd1-5e8d502b00ec\">\n",
              "    <div class=\"colab-df-container\">\n",
              "      <div>\n",
              "<style scoped>\n",
              "    .dataframe tbody tr th:only-of-type {\n",
              "        vertical-align: middle;\n",
              "    }\n",
              "\n",
              "    .dataframe tbody tr th {\n",
              "        vertical-align: top;\n",
              "    }\n",
              "\n",
              "    .dataframe thead th {\n",
              "        text-align: right;\n",
              "    }\n",
              "</style>\n",
              "<table border=\"1\" class=\"dataframe\">\n",
              "  <thead>\n",
              "    <tr style=\"text-align: right;\">\n",
              "      <th></th>\n",
              "      <th>Date</th>\n",
              "      <th>Open</th>\n",
              "      <th>High</th>\n",
              "      <th>Low</th>\n",
              "      <th>Close</th>\n",
              "      <th>Adj Close</th>\n",
              "      <th>Volume</th>\n",
              "      <th>3MA</th>\n",
              "      <th>5MA</th>\n",
              "    </tr>\n",
              "  </thead>\n",
              "  <tbody>\n",
              "    <tr>\n",
              "      <th>1304</th>\n",
              "      <td>2005-01-03</td>\n",
              "      <td>NaN</td>\n",
              "      <td>NaN</td>\n",
              "      <td>NaN</td>\n",
              "      <td>NaN</td>\n",
              "      <td>NaN</td>\n",
              "      <td>NaN</td>\n",
              "      <td>6989.931152</td>\n",
              "      <td>6910.412353</td>\n",
              "    </tr>\n",
              "    <tr>\n",
              "      <th>4513</th>\n",
              "      <td>2017-11-16</td>\n",
              "      <td>NaN</td>\n",
              "      <td>NaN</td>\n",
              "      <td>NaN</td>\n",
              "      <td>NaN</td>\n",
              "      <td>NaN</td>\n",
              "      <td>NaN</td>\n",
              "      <td>49382.673830</td>\n",
              "      <td>49719.997070</td>\n",
              "    </tr>\n",
              "    <tr>\n",
              "      <th>4518</th>\n",
              "      <td>2017-11-23</td>\n",
              "      <td>NaN</td>\n",
              "      <td>NaN</td>\n",
              "      <td>NaN</td>\n",
              "      <td>NaN</td>\n",
              "      <td>NaN</td>\n",
              "      <td>NaN</td>\n",
              "      <td>49373.792970</td>\n",
              "      <td>49324.969730</td>\n",
              "    </tr>\n",
              "    <tr>\n",
              "      <th>4542</th>\n",
              "      <td>2018-01-02</td>\n",
              "      <td>NaN</td>\n",
              "      <td>NaN</td>\n",
              "      <td>NaN</td>\n",
              "      <td>NaN</td>\n",
              "      <td>NaN</td>\n",
              "      <td>NaN</td>\n",
              "      <td>44927.763670</td>\n",
              "      <td>44190.302730</td>\n",
              "    </tr>\n",
              "    <tr>\n",
              "      <th>4755</th>\n",
              "      <td>2018-11-15</td>\n",
              "      <td>NaN</td>\n",
              "      <td>NaN</td>\n",
              "      <td>NaN</td>\n",
              "      <td>NaN</td>\n",
              "      <td>NaN</td>\n",
              "      <td>NaN</td>\n",
              "      <td>40569.835940</td>\n",
              "      <td>40775.886720</td>\n",
              "    </tr>\n",
              "    <tr>\n",
              "      <th>5000</th>\n",
              "      <td>2019-11-14</td>\n",
              "      <td>NaN</td>\n",
              "      <td>NaN</td>\n",
              "      <td>NaN</td>\n",
              "      <td>NaN</td>\n",
              "      <td>NaN</td>\n",
              "      <td>NaN</td>\n",
              "      <td>49695.419920</td>\n",
              "      <td>49364.432620</td>\n",
              "    </tr>\n",
              "  </tbody>\n",
              "</table>\n",
              "</div>\n",
              "      <button class=\"colab-df-convert\" onclick=\"convertToInteractive('df-3b97ed54-b7cc-42e9-bbd1-5e8d502b00ec')\"\n",
              "              title=\"Convert this dataframe to an interactive table.\"\n",
              "              style=\"display:none;\">\n",
              "        \n",
              "  <svg xmlns=\"http://www.w3.org/2000/svg\" height=\"24px\"viewBox=\"0 0 24 24\"\n",
              "       width=\"24px\">\n",
              "    <path d=\"M0 0h24v24H0V0z\" fill=\"none\"/>\n",
              "    <path d=\"M18.56 5.44l.94 2.06.94-2.06 2.06-.94-2.06-.94-.94-2.06-.94 2.06-2.06.94zm-11 1L8.5 8.5l.94-2.06 2.06-.94-2.06-.94L8.5 2.5l-.94 2.06-2.06.94zm10 10l.94 2.06.94-2.06 2.06-.94-2.06-.94-.94-2.06-.94 2.06-2.06.94z\"/><path d=\"M17.41 7.96l-1.37-1.37c-.4-.4-.92-.59-1.43-.59-.52 0-1.04.2-1.43.59L10.3 9.45l-7.72 7.72c-.78.78-.78 2.05 0 2.83L4 21.41c.39.39.9.59 1.41.59.51 0 1.02-.2 1.41-.59l7.78-7.78 2.81-2.81c.8-.78.8-2.07 0-2.86zM5.41 20L4 18.59l7.72-7.72 1.47 1.35L5.41 20z\"/>\n",
              "  </svg>\n",
              "      </button>\n",
              "      \n",
              "  <style>\n",
              "    .colab-df-container {\n",
              "      display:flex;\n",
              "      flex-wrap:wrap;\n",
              "      gap: 12px;\n",
              "    }\n",
              "\n",
              "    .colab-df-convert {\n",
              "      background-color: #E8F0FE;\n",
              "      border: none;\n",
              "      border-radius: 50%;\n",
              "      cursor: pointer;\n",
              "      display: none;\n",
              "      fill: #1967D2;\n",
              "      height: 32px;\n",
              "      padding: 0 0 0 0;\n",
              "      width: 32px;\n",
              "    }\n",
              "\n",
              "    .colab-df-convert:hover {\n",
              "      background-color: #E2EBFA;\n",
              "      box-shadow: 0px 1px 2px rgba(60, 64, 67, 0.3), 0px 1px 3px 1px rgba(60, 64, 67, 0.15);\n",
              "      fill: #174EA6;\n",
              "    }\n",
              "\n",
              "    [theme=dark] .colab-df-convert {\n",
              "      background-color: #3B4455;\n",
              "      fill: #D2E3FC;\n",
              "    }\n",
              "\n",
              "    [theme=dark] .colab-df-convert:hover {\n",
              "      background-color: #434B5C;\n",
              "      box-shadow: 0px 1px 3px 1px rgba(0, 0, 0, 0.15);\n",
              "      filter: drop-shadow(0px 1px 2px rgba(0, 0, 0, 0.3));\n",
              "      fill: #FFFFFF;\n",
              "    }\n",
              "  </style>\n",
              "\n",
              "      <script>\n",
              "        const buttonEl =\n",
              "          document.querySelector('#df-3b97ed54-b7cc-42e9-bbd1-5e8d502b00ec button.colab-df-convert');\n",
              "        buttonEl.style.display =\n",
              "          google.colab.kernel.accessAllowed ? 'block' : 'none';\n",
              "\n",
              "        async function convertToInteractive(key) {\n",
              "          const element = document.querySelector('#df-3b97ed54-b7cc-42e9-bbd1-5e8d502b00ec');\n",
              "          const dataTable =\n",
              "            await google.colab.kernel.invokeFunction('convertToInteractive',\n",
              "                                                     [key], {});\n",
              "          if (!dataTable) return;\n",
              "\n",
              "          const docLinkHtml = 'Like what you see? Visit the ' +\n",
              "            '<a target=\"_blank\" href=https://colab.research.google.com/notebooks/data_table.ipynb>data table notebook</a>'\n",
              "            + ' to learn more about interactive tables.';\n",
              "          element.innerHTML = '';\n",
              "          dataTable['output_type'] = 'display_data';\n",
              "          await google.colab.output.renderOutput(dataTable, element);\n",
              "          const docLink = document.createElement('div');\n",
              "          docLink.innerHTML = docLinkHtml;\n",
              "          element.appendChild(docLink);\n",
              "        }\n",
              "      </script>\n",
              "    </div>\n",
              "  </div>\n",
              "  "
            ]
          },
          "metadata": {},
          "execution_count": 118
        }
      ]
    },
    {
      "cell_type": "code",
      "source": [
        "# Volume 값 0을 NaN으로 모두 대체(replace)\n",
        "\n",
        "raw_df['Volume'] = raw_df['Volume'].replace(0, np.nan)\n",
        "\n",
        "# 각 column에 0 개수 확인\n",
        "for col in raw_df.columns:\n",
        "  missing_rows=raw_df.loc[raw_df[col]==0].shape[0]\n",
        "  print(col +':' + str(missing_rows))\n"
      ],
      "metadata": {
        "colab": {
          "base_uri": "https://localhost:8080/"
        },
        "id": "XuqNfP7MCJQH",
        "outputId": "779d0540-6bbe-4088-fa6a-739cd14fc194"
      },
      "execution_count": 119,
      "outputs": [
        {
          "output_type": "stream",
          "name": "stdout",
          "text": [
            "Date:0\n",
            "Open:0\n",
            "High:0\n",
            "Low:0\n",
            "Close:0\n",
            "Adj Close:0\n",
            "Volume:0\n",
            "3MA:0\n",
            "5MA:0\n"
          ]
        }
      ]
    },
    {
      "cell_type": "code",
      "source": [
        "raw_df = raw_df.dropna()\n",
        "raw_df.isnull().sum()"
      ],
      "metadata": {
        "colab": {
          "base_uri": "https://localhost:8080/"
        },
        "id": "uVV01u3XCJSX",
        "outputId": "72017c42-d61d-4b13-8bd1-4420d0729d15"
      },
      "execution_count": 120,
      "outputs": [
        {
          "output_type": "execute_result",
          "data": {
            "text/plain": [
              "Date         0\n",
              "Open         0\n",
              "High         0\n",
              "Low          0\n",
              "Close        0\n",
              "Adj Close    0\n",
              "Volume       0\n",
              "3MA          0\n",
              "5MA          0\n",
              "dtype: int64"
            ]
          },
          "metadata": {},
          "execution_count": 120
        }
      ]
    },
    {
      "cell_type": "code",
      "source": [
        "# 정규화 (Date 제외한 모든 수치부분 정규화)\n",
        "\n",
        "from sklearn.preprocessing import MinMaxScaler\n",
        "\n",
        "scaler = MinMaxScaler()\n",
        "\n",
        "scale_cols = ['Open', 'High', 'Low', 'Close', 'Adj Close',\n",
        "              '3MA', '5MA', 'Volume']\n",
        "\n",
        "scaled_df = scaler.fit_transform(raw_df[scale_cols])\n",
        "\n",
        "scaled_df = pd.DataFrame(scaled_df, columns=scale_cols)\n",
        "\n",
        "print(scaled_df)"
      ],
      "metadata": {
        "id": "QHRoRncUCJUf"
      },
      "execution_count": null,
      "outputs": []
    },
    {
      "cell_type": "code",
      "source": [
        "# 입력 파라미터 feature, label => numpy type\n",
        "\n",
        "def make_sequene_dataset(feature, label, window_size):\n",
        "\n",
        "    feature_list = []      # 생성될 feature list\n",
        "    label_list = []        # 생성될 label list\n",
        "\n",
        "    for i in range(len(feature)-window_size):\n",
        "\n",
        "        feature_list.append(feature[i:i+window_size])\n",
        "        label_list.append(label[i+window_size])\n",
        "\n",
        "    return np.array(feature_list), np.array(label_list)"
      ],
      "metadata": {
        "id": "-DYNZV8KKlgY"
      },
      "execution_count": 122,
      "outputs": []
    },
    {
      "cell_type": "code",
      "source": [
        "# feature_df, label_df 생성\n",
        "\n",
        "feature_cols = [ '3MA', '5MA', 'Adj Close' ]\n",
        "label_cols = [ 'Adj Close' ]\n",
        "\n",
        "feature_df = pd.DataFrame(scaled_df, columns=feature_cols)\n",
        "label_df = pd.DataFrame(scaled_df, columns=label_cols)"
      ],
      "metadata": {
        "id": "0uuSB-IJRMaP"
      },
      "execution_count": 123,
      "outputs": []
    },
    {
      "cell_type": "code",
      "source": [
        "# DataFrame => Numpy 변환\n",
        "\n",
        "feature_np = feature_df.to_numpy()\n",
        "label_np = label_df.to_numpy()\n",
        "\n",
        "print(feature_np.shape, label_np.shape)"
      ],
      "metadata": {
        "colab": {
          "base_uri": "https://localhost:8080/"
        },
        "id": "z1fKW4oqUE02",
        "outputId": "27f18cb9-b58a-4272-d7ba-3cc399b342ad"
      },
      "execution_count": 124,
      "outputs": [
        {
          "output_type": "stream",
          "name": "stdout",
          "text": [
            "(5269, 3) (5269, 1)\n"
          ]
        }
      ]
    },
    {
      "cell_type": "code",
      "source": [
        "window_size = 40\n",
        "\n",
        "X, Y = make_sequene_dataset(feature_np, label_np, window_size)\n",
        "\n",
        "print(X.shape, Y.shape)"
      ],
      "metadata": {
        "colab": {
          "base_uri": "https://localhost:8080/"
        },
        "id": "33RNtneTKli9",
        "outputId": "5dfb8b09-e6e6-40b0-ffc2-45d97d44feab"
      },
      "execution_count": 125,
      "outputs": [
        {
          "output_type": "stream",
          "name": "stdout",
          "text": [
            "(5229, 40, 3) (5229, 1)\n"
          ]
        }
      ]
    },
    {
      "cell_type": "code",
      "source": [
        "# train, test 분리\n",
        "\n",
        "#split = int(len(X)*0.95)\n",
        "split = -200\n",
        "\n",
        "x_train = X[0:split]\n",
        "y_train = Y[0:split]\n",
        "\n",
        "x_test = X[split:]\n",
        "y_test = Y[split:]\n",
        "\n",
        "print(x_train.shape, y_train.shape)\n",
        "print(x_test.shape, y_test.shape)"
      ],
      "metadata": {
        "colab": {
          "base_uri": "https://localhost:8080/"
        },
        "id": "XyTl06LQUhAd",
        "outputId": "8745140d-f33a-4423-c4c6-f84713325ba7"
      },
      "execution_count": 126,
      "outputs": [
        {
          "output_type": "stream",
          "name": "stdout",
          "text": [
            "(5029, 40, 3) (5029, 1)\n",
            "(200, 40, 3) (200, 1)\n"
          ]
        }
      ]
    },
    {
      "cell_type": "code",
      "source": [
        "# model 생성\n",
        "\n",
        "model = Sequential()\n",
        "\n",
        "model.add(LSTM(128, activation='tanh', input_shape=x_train[0].shape))\n",
        "\n",
        "model.add(Dense(1, activation='linear'))"
      ],
      "metadata": {
        "id": "zp5HS6UGUhDD"
      },
      "execution_count": 127,
      "outputs": []
    },
    {
      "cell_type": "code",
      "source": [
        "model.compile(loss='mse', optimizer='adam', metrics=['mae'])\n",
        "\n",
        "model.summary()"
      ],
      "metadata": {
        "colab": {
          "base_uri": "https://localhost:8080/"
        },
        "id": "u56VMIlFUhFV",
        "outputId": "3b72b1dc-ffa4-4048-ab8f-f0bfabe561e8"
      },
      "execution_count": 128,
      "outputs": [
        {
          "output_type": "stream",
          "name": "stdout",
          "text": [
            "Model: \"sequential_3\"\n",
            "_________________________________________________________________\n",
            " Layer (type)                Output Shape              Param #   \n",
            "=================================================================\n",
            " lstm_2 (LSTM)               (None, 128)               67584     \n",
            "                                                                 \n",
            " dense_2 (Dense)             (None, 1)                 129       \n",
            "                                                                 \n",
            "=================================================================\n",
            "Total params: 67,713\n",
            "Trainable params: 67,713\n",
            "Non-trainable params: 0\n",
            "_________________________________________________________________\n"
          ]
        }
      ]
    },
    {
      "cell_type": "code",
      "source": [
        "from tensorflow.keras.callbacks import EarlyStopping\n",
        "\n",
        "early_stop = EarlyStopping(monitor='val_loss', patience=5)\n",
        "\n",
        "model.fit(x_train, y_train, \n",
        "          validation_data=(x_test, y_test),\n",
        "          epochs=100, batch_size=16,\n",
        "          callbacks=[early_stop])"
      ],
      "metadata": {
        "colab": {
          "base_uri": "https://localhost:8080/"
        },
        "id": "Sp3-uyq7UhHe",
        "outputId": "3ec0b22b-68f7-4f4a-bafd-f130bcc85ced"
      },
      "execution_count": 129,
      "outputs": [
        {
          "output_type": "stream",
          "name": "stdout",
          "text": [
            "Epoch 1/100\n",
            "315/315 [==============================] - 10s 28ms/step - loss: 5.1105e-04 - mae: 0.0100 - val_loss: 0.0013 - val_mae: 0.0264\n",
            "Epoch 2/100\n",
            "315/315 [==============================] - 8s 27ms/step - loss: 8.9831e-05 - mae: 0.0062 - val_loss: 6.0699e-04 - val_mae: 0.0177\n",
            "Epoch 3/100\n",
            "315/315 [==============================] - 9s 27ms/step - loss: 7.8242e-05 - mae: 0.0058 - val_loss: 5.7017e-04 - val_mae: 0.0189\n",
            "Epoch 4/100\n",
            "315/315 [==============================] - 8s 27ms/step - loss: 7.2580e-05 - mae: 0.0056 - val_loss: 5.8668e-04 - val_mae: 0.0169\n",
            "Epoch 5/100\n",
            "315/315 [==============================] - 10s 31ms/step - loss: 6.2199e-05 - mae: 0.0052 - val_loss: 0.0013 - val_mae: 0.0315\n",
            "Epoch 6/100\n",
            "315/315 [==============================] - 10s 30ms/step - loss: 5.8891e-05 - mae: 0.0051 - val_loss: 5.9129e-04 - val_mae: 0.0184\n",
            "Epoch 7/100\n",
            "315/315 [==============================] - 8s 26ms/step - loss: 5.9684e-05 - mae: 0.0052 - val_loss: 3.3302e-04 - val_mae: 0.0138\n",
            "Epoch 8/100\n",
            "315/315 [==============================] - 8s 26ms/step - loss: 4.9129e-05 - mae: 0.0047 - val_loss: 4.9899e-04 - val_mae: 0.0190\n",
            "Epoch 9/100\n",
            "315/315 [==============================] - 8s 26ms/step - loss: 4.7922e-05 - mae: 0.0046 - val_loss: 3.0944e-04 - val_mae: 0.0123\n",
            "Epoch 10/100\n",
            "315/315 [==============================] - 9s 28ms/step - loss: 4.3803e-05 - mae: 0.0045 - val_loss: 3.3203e-04 - val_mae: 0.0130\n",
            "Epoch 11/100\n",
            "315/315 [==============================] - 9s 28ms/step - loss: 4.5635e-05 - mae: 0.0046 - val_loss: 2.9559e-04 - val_mae: 0.0139\n",
            "Epoch 12/100\n",
            "315/315 [==============================] - 8s 27ms/step - loss: 4.0148e-05 - mae: 0.0042 - val_loss: 3.0485e-04 - val_mae: 0.0126\n",
            "Epoch 13/100\n",
            "315/315 [==============================] - 8s 27ms/step - loss: 3.8498e-05 - mae: 0.0042 - val_loss: 3.6193e-04 - val_mae: 0.0161\n",
            "Epoch 14/100\n",
            "315/315 [==============================] - 9s 27ms/step - loss: 3.3465e-05 - mae: 0.0040 - val_loss: 2.0205e-04 - val_mae: 0.0104\n",
            "Epoch 15/100\n",
            "315/315 [==============================] - 9s 27ms/step - loss: 3.0028e-05 - mae: 0.0037 - val_loss: 2.3121e-04 - val_mae: 0.0119\n",
            "Epoch 16/100\n",
            "315/315 [==============================] - 9s 27ms/step - loss: 3.2910e-05 - mae: 0.0039 - val_loss: 2.0320e-04 - val_mae: 0.0100\n",
            "Epoch 17/100\n",
            "315/315 [==============================] - 9s 27ms/step - loss: 3.1004e-05 - mae: 0.0038 - val_loss: 2.0780e-04 - val_mae: 0.0111\n",
            "Epoch 18/100\n",
            "315/315 [==============================] - 9s 27ms/step - loss: 2.8618e-05 - mae: 0.0037 - val_loss: 1.9351e-04 - val_mae: 0.0101\n",
            "Epoch 19/100\n",
            "315/315 [==============================] - 8s 27ms/step - loss: 3.0572e-05 - mae: 0.0038 - val_loss: 5.1304e-04 - val_mae: 0.0185\n",
            "Epoch 20/100\n",
            "315/315 [==============================] - 8s 27ms/step - loss: 3.2134e-05 - mae: 0.0039 - val_loss: 2.7530e-04 - val_mae: 0.0123\n",
            "Epoch 21/100\n",
            "315/315 [==============================] - 9s 27ms/step - loss: 2.7726e-05 - mae: 0.0036 - val_loss: 2.6075e-04 - val_mae: 0.0118\n",
            "Epoch 22/100\n",
            "315/315 [==============================] - 9s 27ms/step - loss: 2.7764e-05 - mae: 0.0035 - val_loss: 1.9503e-04 - val_mae: 0.0100\n",
            "Epoch 23/100\n",
            "315/315 [==============================] - 8s 27ms/step - loss: 2.8120e-05 - mae: 0.0036 - val_loss: 4.4824e-04 - val_mae: 0.0170\n"
          ]
        },
        {
          "output_type": "execute_result",
          "data": {
            "text/plain": [
              "<keras.callbacks.History at 0x7f71b79a9310>"
            ]
          },
          "metadata": {},
          "execution_count": 129
        }
      ]
    },
    {
      "cell_type": "code",
      "source": [
        "pred = model.predict(x_test)\n",
        "\n",
        "plt.figure(figsize=(12, 6))\n",
        "plt.title('3MA + 5MA + Adj Close, window_size=40')\n",
        "plt.ylabel('adj close')\n",
        "plt.xlabel('period')\n",
        "plt.plot(y_test, label='actual')\n",
        "plt.plot(pred, label='prediction')\n",
        "plt.grid()\n",
        "plt.legend(loc='best')\n",
        "\n",
        "plt.show()"
      ],
      "metadata": {
        "colab": {
          "base_uri": "https://localhost:8080/",
          "height": 404
        },
        "id": "yCFIdOHWUhJ3",
        "outputId": "d68b9f4c-006d-421d-ad1f-05df91c5456f"
      },
      "execution_count": 111,
      "outputs": [
        {
          "output_type": "display_data",
          "data": {
            "text/plain": [
              "<Figure size 864x432 with 1 Axes>"
            ],
            "image/png": "[encoded data removed]"
          },
          "metadata": {
            "needs_background": "light"
          }
        }
      ]
    },
    {
      "cell_type": "code",
      "source": [
        "# 평균절대값백분율오차계산 (MAPE)\n",
        "\n",
        "print( np.sum(abs(y_test-pred)/y_test) / len(x_test) )"
      ],
      "metadata": {
        "colab": {
          "base_uri": "https://localhost:8080/"
        },
        "id": "NgYa9-RGUhME",
        "outputId": "8b6ddbca-4e70-4016-ca99-23008a61bf66"
      },
      "execution_count": 112,
      "outputs": [
        {
          "output_type": "stream",
          "name": "stdout",
          "text": [
            "0.0288119385479862\n"
          ]
        }
      ]
    }
  ],
  "metadata": {
    "kernelspec": {
      "display_name": "Python 3",
      "language": "python",
      "name": "python3"
    },
    "language_info": {
      "codemirror_mode": {
        "name": "ipython",
        "version": 3
      },
      "file_extension": ".py",
      "mimetype": "text/x-python",
      "name": "python",
      "nbconvert_exporter": "python",
      "pygments_lexer": "ipython3",
      "version": "3.7.6"
    },
    "colab": {
      "name": "Untitled.ipynb",
      "provenance": [],
      "include_colab_link": true
    }
  },
  "nbformat": 4,
  "nbformat_minor": 0
}