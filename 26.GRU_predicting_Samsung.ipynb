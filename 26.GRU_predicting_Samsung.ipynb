{
  "cells": [
    {
      "cell_type": "markdown",
      "metadata": {
        "id": "view-in-github",
        "colab_type": "text"
      },
      "source": [
        "<a href=\"https://colab.research.google.com/github/Tom-Jung/ML_Colab/blob/main/26.GRU_predicting_Samsung.ipynb\" target=\"_parent\"><img src=\"https://colab.research.google.com/assets/colab-badge.svg\" alt=\"Open In Colab\"/></a>"
      ]
    },
    {
      "cell_type": "code",
      "source": [
        "import tensorflow as tf\n",
        "import numpy as np\n",
        "import pandas as pd\n",
        "import matplotlib.pyplot as plt\n",
        "from tensorflow.keras.models import Sequential\n",
        "from tensorflow.keras.layers import GRU, Dense, Dropout"
      ],
      "metadata": {
        "id": "-mh8RITQCKMF"
      },
      "execution_count": 4,
      "outputs": []
    },
    {
      "cell_type": "code",
      "source": [
        "url = 'https://raw.githubusercontent.com/neowizard2018/neowizard/master/TensorFlow2/005930.KS_3MA_5MA.csv'\n",
        "raw_df = pd.read_csv(url)\n",
        "raw_df.head()"
      ],
      "metadata": {
        "id": "a2C0c_NNCKOs",
        "outputId": "a8b32757-7af9-4d9f-fd4b-260f183421af",
        "colab": {
          "base_uri": "https://localhost:8080/",
          "height": 206
        }
      },
      "execution_count": 5,
      "outputs": [
        {
          "output_type": "execute_result",
          "data": {
            "text/plain": [
              "         Date    Open    High     Low   Close    Adj Close      Volume  \\\n",
              "0  2000-01-04  6000.0  6110.0  5660.0  6110.0  4740.119629  74195000.0   \n",
              "1  2000-01-05  5800.0  6060.0  5520.0  5580.0  4328.947754  74680000.0   \n",
              "2  2000-01-06  5750.0  5780.0  5580.0  5620.0  4359.979492  54390000.0   \n",
              "3  2000-01-07  5560.0  5670.0  5360.0  5540.0  4297.916992  40305000.0   \n",
              "4  2000-01-10  5600.0  5770.0  5580.0  5770.0  4476.349121  46880000.0   \n",
              "\n",
              "           3MA          5MA  \n",
              "0          NaN          NaN  \n",
              "1          NaN          NaN  \n",
              "2  4476.348958          NaN  \n",
              "3  4328.948079          NaN  \n",
              "4  4378.081868  4440.662598  "
            ],
            "text/html": [
              "\n",
              "  <div id=\"df-d941841f-0841-4b7b-8fd7-cc6122a0d7ca\">\n",
              "    <div class=\"colab-df-container\">\n",
              "      <div>\n",
              "<style scoped>\n",
              "    .dataframe tbody tr th:only-of-type {\n",
              "        vertical-align: middle;\n",
              "    }\n",
              "\n",
              "    .dataframe tbody tr th {\n",
              "        vertical-align: top;\n",
              "    }\n",
              "\n",
              "    .dataframe thead th {\n",
              "        text-align: right;\n",
              "    }\n",
              "</style>\n",
              "<table border=\"1\" class=\"dataframe\">\n",
              "  <thead>\n",
              "    <tr style=\"text-align: right;\">\n",
              "      <th></th>\n",
              "      <th>Date</th>\n",
              "      <th>Open</th>\n",
              "      <th>High</th>\n",
              "      <th>Low</th>\n",
              "      <th>Close</th>\n",
              "      <th>Adj Close</th>\n",
              "      <th>Volume</th>\n",
              "      <th>3MA</th>\n",
              "      <th>5MA</th>\n",
              "    </tr>\n",
              "  </thead>\n",
              "  <tbody>\n",
              "    <tr>\n",
              "      <th>0</th>\n",
              "      <td>2000-01-04</td>\n",
              "      <td>6000.0</td>\n",
              "      <td>6110.0</td>\n",
              "      <td>5660.0</td>\n",
              "      <td>6110.0</td>\n",
              "      <td>4740.119629</td>\n",
              "      <td>74195000.0</td>\n",
              "      <td>NaN</td>\n",
              "      <td>NaN</td>\n",
              "    </tr>\n",
              "    <tr>\n",
              "      <th>1</th>\n",
              "      <td>2000-01-05</td>\n",
              "      <td>5800.0</td>\n",
              "      <td>6060.0</td>\n",
              "      <td>5520.0</td>\n",
              "      <td>5580.0</td>\n",
              "      <td>4328.947754</td>\n",
              "      <td>74680000.0</td>\n",
              "      <td>NaN</td>\n",
              "      <td>NaN</td>\n",
              "    </tr>\n",
              "    <tr>\n",
              "      <th>2</th>\n",
              "      <td>2000-01-06</td>\n",
              "      <td>5750.0</td>\n",
              "      <td>5780.0</td>\n",
              "      <td>5580.0</td>\n",
              "      <td>5620.0</td>\n",
              "      <td>4359.979492</td>\n",
              "      <td>54390000.0</td>\n",
              "      <td>4476.348958</td>\n",
              "      <td>NaN</td>\n",
              "    </tr>\n",
              "    <tr>\n",
              "      <th>3</th>\n",
              "      <td>2000-01-07</td>\n",
              "      <td>5560.0</td>\n",
              "      <td>5670.0</td>\n",
              "      <td>5360.0</td>\n",
              "      <td>5540.0</td>\n",
              "      <td>4297.916992</td>\n",
              "      <td>40305000.0</td>\n",
              "      <td>4328.948079</td>\n",
              "      <td>NaN</td>\n",
              "    </tr>\n",
              "    <tr>\n",
              "      <th>4</th>\n",
              "      <td>2000-01-10</td>\n",
              "      <td>5600.0</td>\n",
              "      <td>5770.0</td>\n",
              "      <td>5580.0</td>\n",
              "      <td>5770.0</td>\n",
              "      <td>4476.349121</td>\n",
              "      <td>46880000.0</td>\n",
              "      <td>4378.081868</td>\n",
              "      <td>4440.662598</td>\n",
              "    </tr>\n",
              "  </tbody>\n",
              "</table>\n",
              "</div>\n",
              "      <button class=\"colab-df-convert\" onclick=\"convertToInteractive('df-d941841f-0841-4b7b-8fd7-cc6122a0d7ca')\"\n",
              "              title=\"Convert this dataframe to an interactive table.\"\n",
              "              style=\"display:none;\">\n",
              "        \n",
              "  <svg xmlns=\"http://www.w3.org/2000/svg\" height=\"24px\"viewBox=\"0 0 24 24\"\n",
              "       width=\"24px\">\n",
              "    <path d=\"M0 0h24v24H0V0z\" fill=\"none\"/>\n",
              "    <path d=\"M18.56 5.44l.94 2.06.94-2.06 2.06-.94-2.06-.94-.94-2.06-.94 2.06-2.06.94zm-11 1L8.5 8.5l.94-2.06 2.06-.94-2.06-.94L8.5 2.5l-.94 2.06-2.06.94zm10 10l.94 2.06.94-2.06 2.06-.94-2.06-.94-.94-2.06-.94 2.06-2.06.94z\"/><path d=\"M17.41 7.96l-1.37-1.37c-.4-.4-.92-.59-1.43-.59-.52 0-1.04.2-1.43.59L10.3 9.45l-7.72 7.72c-.78.78-.78 2.05 0 2.83L4 21.41c.39.39.9.59 1.41.59.51 0 1.02-.2 1.41-.59l7.78-7.78 2.81-2.81c.8-.78.8-2.07 0-2.86zM5.41 20L4 18.59l7.72-7.72 1.47 1.35L5.41 20z\"/>\n",
              "  </svg>\n",
              "      </button>\n",
              "      \n",
              "  <style>\n",
              "    .colab-df-container {\n",
              "      display:flex;\n",
              "      flex-wrap:wrap;\n",
              "      gap: 12px;\n",
              "    }\n",
              "\n",
              "    .colab-df-convert {\n",
              "      background-color: #E8F0FE;\n",
              "      border: none;\n",
              "      border-radius: 50%;\n",
              "      cursor: pointer;\n",
              "      display: none;\n",
              "      fill: #1967D2;\n",
              "      height: 32px;\n",
              "      padding: 0 0 0 0;\n",
              "      width: 32px;\n",
              "    }\n",
              "\n",
              "    .colab-df-convert:hover {\n",
              "      background-color: #E2EBFA;\n",
              "      box-shadow: 0px 1px 2px rgba(60, 64, 67, 0.3), 0px 1px 3px 1px rgba(60, 64, 67, 0.15);\n",
              "      fill: #174EA6;\n",
              "    }\n",
              "\n",
              "    [theme=dark] .colab-df-convert {\n",
              "      background-color: #3B4455;\n",
              "      fill: #D2E3FC;\n",
              "    }\n",
              "\n",
              "    [theme=dark] .colab-df-convert:hover {\n",
              "      background-color: #434B5C;\n",
              "      box-shadow: 0px 1px 3px 1px rgba(0, 0, 0, 0.15);\n",
              "      filter: drop-shadow(0px 1px 2px rgba(0, 0, 0, 0.3));\n",
              "      fill: #FFFFFF;\n",
              "    }\n",
              "  </style>\n",
              "\n",
              "      <script>\n",
              "        const buttonEl =\n",
              "          document.querySelector('#df-d941841f-0841-4b7b-8fd7-cc6122a0d7ca button.colab-df-convert');\n",
              "        buttonEl.style.display =\n",
              "          google.colab.kernel.accessAllowed ? 'block' : 'none';\n",
              "\n",
              "        async function convertToInteractive(key) {\n",
              "          const element = document.querySelector('#df-d941841f-0841-4b7b-8fd7-cc6122a0d7ca');\n",
              "          const dataTable =\n",
              "            await google.colab.kernel.invokeFunction('convertToInteractive',\n",
              "                                                     [key], {});\n",
              "          if (!dataTable) return;\n",
              "\n",
              "          const docLinkHtml = 'Like what you see? Visit the ' +\n",
              "            '<a target=\"_blank\" href=https://colab.research.google.com/notebooks/data_table.ipynb>data table notebook</a>'\n",
              "            + ' to learn more about interactive tables.';\n",
              "          element.innerHTML = '';\n",
              "          dataTable['output_type'] = 'display_data';\n",
              "          await google.colab.output.renderOutput(dataTable, element);\n",
              "          const docLink = document.createElement('div');\n",
              "          docLink.innerHTML = docLinkHtml;\n",
              "          element.appendChild(docLink);\n",
              "        }\n",
              "      </script>\n",
              "    </div>\n",
              "  </div>\n",
              "  "
            ]
          },
          "metadata": {},
          "execution_count": 5
        }
      ]
    },
    {
      "cell_type": "code",
      "source": [
        "plt.figure(figsize=(7,4))\n",
        "\n",
        "plt.title('Samsung electronics stock price')\n",
        "plt.ylabel('price(won)')\n",
        "plt.xlabel('period(day)')\n",
        "\n",
        "plt.grid()\n",
        "plt.plot(raw_df['Adj Close'], label = 'Adj Close', color='b')\n",
        "plt.legend(loc='best')\n",
        "\n",
        "plt.show()"
      ],
      "metadata": {
        "id": "x5RgZhNXHIcY",
        "outputId": "caceee2f-3928-49d7-ecc4-004a0fac0569",
        "colab": {
          "base_uri": "https://localhost:8080/",
          "height": 295
        }
      },
      "execution_count": 6,
      "outputs": [
        {
          "output_type": "display_data",
          "data": {
            "text/plain": [
              "<Figure size 504x288 with 1 Axes>"
            ],
            "image/png": "[encoded data removed]"
          },
          "metadata": {
            "needs_background": "light"
          }
        }
      ]
    },
    {
      "cell_type": "code",
      "source": [
        "raw_df.describe()"
      ],
      "metadata": {
        "id": "bByBOERPHIeu",
        "outputId": "e322d6ca-4e84-40ae-810e-97da78786651",
        "colab": {
          "base_uri": "https://localhost:8080/",
          "height": 300
        }
      },
      "execution_count": 7,
      "outputs": [
        {
          "output_type": "execute_result",
          "data": {
            "text/plain": [
              "               Open          High           Low         Close     Adj Close  \\\n",
              "count   5389.000000   5389.000000   5389.000000   5389.000000   5389.000000   \n",
              "mean   22801.887178  23043.991464  22559.285582  22801.909445  19920.044863   \n",
              "std    17736.201238  17906.827402  17572.109940  17733.296811  17322.636387   \n",
              "min     2540.000000   2760.000000   2420.000000   2730.000000   2117.926025   \n",
              "25%     9880.000000   9990.000000   9800.000000   9900.000000   7726.937988   \n",
              "50%    15760.000000  15940.000000  15560.000000  15800.000000  12808.596680   \n",
              "75%    29280.000000  29560.000000  29000.000000  29280.000000  24566.556640   \n",
              "max    90300.000000  96800.000000  89500.000000  91000.000000  90597.414060   \n",
              "\n",
              "             Volume           3MA           5MA  \n",
              "count  5.389000e+03   5393.000000   5391.000000  \n",
              "mean   2.207838e+07  19934.224878  19925.585966  \n",
              "std    1.564053e+07  17313.297249  17292.697383  \n",
              "min    0.000000e+00   2164.473877   2179.989746  \n",
              "25%    1.185265e+07   7726.939453   7709.871631  \n",
              "50%    1.803935e+07  12802.806970  12809.314840  \n",
              "75%    2.771475e+07  24558.166020  24555.269140  \n",
              "max    1.642150e+08  90033.252600  89562.014060  "
            ],
            "text/html": [
              "\n",
              "  <div id=\"df-1872995e-18bb-41ad-b3db-85b0cc937632\">\n",
              "    <div class=\"colab-df-container\">\n",
              "      <div>\n",
              "<style scoped>\n",
              "    .dataframe tbody tr th:only-of-type {\n",
              "        vertical-align: middle;\n",
              "    }\n",
              "\n",
              "    .dataframe tbody tr th {\n",
              "        vertical-align: top;\n",
              "    }\n",
              "\n",
              "    .dataframe thead th {\n",
              "        text-align: right;\n",
              "    }\n",
              "</style>\n",
              "<table border=\"1\" class=\"dataframe\">\n",
              "  <thead>\n",
              "    <tr style=\"text-align: right;\">\n",
              "      <th></th>\n",
              "      <th>Open</th>\n",
              "      <th>High</th>\n",
              "      <th>Low</th>\n",
              "      <th>Close</th>\n",
              "      <th>Adj Close</th>\n",
              "      <th>Volume</th>\n",
              "      <th>3MA</th>\n",
              "      <th>5MA</th>\n",
              "    </tr>\n",
              "  </thead>\n",
              "  <tbody>\n",
              "    <tr>\n",
              "      <th>count</th>\n",
              "      <td>5389.000000</td>\n",
              "      <td>5389.000000</td>\n",
              "      <td>5389.000000</td>\n",
              "      <td>5389.000000</td>\n",
              "      <td>5389.000000</td>\n",
              "      <td>5.389000e+03</td>\n",
              "      <td>5393.000000</td>\n",
              "      <td>5391.000000</td>\n",
              "    </tr>\n",
              "    <tr>\n",
              "      <th>mean</th>\n",
              "      <td>22801.887178</td>\n",
              "      <td>23043.991464</td>\n",
              "      <td>22559.285582</td>\n",
              "      <td>22801.909445</td>\n",
              "      <td>19920.044863</td>\n",
              "      <td>2.207838e+07</td>\n",
              "      <td>19934.224878</td>\n",
              "      <td>19925.585966</td>\n",
              "    </tr>\n",
              "    <tr>\n",
              "      <th>std</th>\n",
              "      <td>17736.201238</td>\n",
              "      <td>17906.827402</td>\n",
              "      <td>17572.109940</td>\n",
              "      <td>17733.296811</td>\n",
              "      <td>17322.636387</td>\n",
              "      <td>1.564053e+07</td>\n",
              "      <td>17313.297249</td>\n",
              "      <td>17292.697383</td>\n",
              "    </tr>\n",
              "    <tr>\n",
              "      <th>min</th>\n",
              "      <td>2540.000000</td>\n",
              "      <td>2760.000000</td>\n",
              "      <td>2420.000000</td>\n",
              "      <td>2730.000000</td>\n",
              "      <td>2117.926025</td>\n",
              "      <td>0.000000e+00</td>\n",
              "      <td>2164.473877</td>\n",
              "      <td>2179.989746</td>\n",
              "    </tr>\n",
              "    <tr>\n",
              "      <th>25%</th>\n",
              "      <td>9880.000000</td>\n",
              "      <td>9990.000000</td>\n",
              "      <td>9800.000000</td>\n",
              "      <td>9900.000000</td>\n",
              "      <td>7726.937988</td>\n",
              "      <td>1.185265e+07</td>\n",
              "      <td>7726.939453</td>\n",
              "      <td>7709.871631</td>\n",
              "    </tr>\n",
              "    <tr>\n",
              "      <th>50%</th>\n",
              "      <td>15760.000000</td>\n",
              "      <td>15940.000000</td>\n",
              "      <td>15560.000000</td>\n",
              "      <td>15800.000000</td>\n",
              "      <td>12808.596680</td>\n",
              "      <td>1.803935e+07</td>\n",
              "      <td>12802.806970</td>\n",
              "      <td>12809.314840</td>\n",
              "    </tr>\n",
              "    <tr>\n",
              "      <th>75%</th>\n",
              "      <td>29280.000000</td>\n",
              "      <td>29560.000000</td>\n",
              "      <td>29000.000000</td>\n",
              "      <td>29280.000000</td>\n",
              "      <td>24566.556640</td>\n",
              "      <td>2.771475e+07</td>\n",
              "      <td>24558.166020</td>\n",
              "      <td>24555.269140</td>\n",
              "    </tr>\n",
              "    <tr>\n",
              "      <th>max</th>\n",
              "      <td>90300.000000</td>\n",
              "      <td>96800.000000</td>\n",
              "      <td>89500.000000</td>\n",
              "      <td>91000.000000</td>\n",
              "      <td>90597.414060</td>\n",
              "      <td>1.642150e+08</td>\n",
              "      <td>90033.252600</td>\n",
              "      <td>89562.014060</td>\n",
              "    </tr>\n",
              "  </tbody>\n",
              "</table>\n",
              "</div>\n",
              "      <button class=\"colab-df-convert\" onclick=\"convertToInteractive('df-1872995e-18bb-41ad-b3db-85b0cc937632')\"\n",
              "              title=\"Convert this dataframe to an interactive table.\"\n",
              "              style=\"display:none;\">\n",
              "        \n",
              "  <svg xmlns=\"http://www.w3.org/2000/svg\" height=\"24px\"viewBox=\"0 0 24 24\"\n",
              "       width=\"24px\">\n",
              "    <path d=\"M0 0h24v24H0V0z\" fill=\"none\"/>\n",
              "    <path d=\"M18.56 5.44l.94 2.06.94-2.06 2.06-.94-2.06-.94-.94-2.06-.94 2.06-2.06.94zm-11 1L8.5 8.5l.94-2.06 2.06-.94-2.06-.94L8.5 2.5l-.94 2.06-2.06.94zm10 10l.94 2.06.94-2.06 2.06-.94-2.06-.94-.94-2.06-.94 2.06-2.06.94z\"/><path d=\"M17.41 7.96l-1.37-1.37c-.4-.4-.92-.59-1.43-.59-.52 0-1.04.2-1.43.59L10.3 9.45l-7.72 7.72c-.78.78-.78 2.05 0 2.83L4 21.41c.39.39.9.59 1.41.59.51 0 1.02-.2 1.41-.59l7.78-7.78 2.81-2.81c.8-.78.8-2.07 0-2.86zM5.41 20L4 18.59l7.72-7.72 1.47 1.35L5.41 20z\"/>\n",
              "  </svg>\n",
              "      </button>\n",
              "      \n",
              "  <style>\n",
              "    .colab-df-container {\n",
              "      display:flex;\n",
              "      flex-wrap:wrap;\n",
              "      gap: 12px;\n",
              "    }\n",
              "\n",
              "    .colab-df-convert {\n",
              "      background-color: #E8F0FE;\n",
              "      border: none;\n",
              "      border-radius: 50%;\n",
              "      cursor: pointer;\n",
              "      display: none;\n",
              "      fill: #1967D2;\n",
              "      height: 32px;\n",
              "      padding: 0 0 0 0;\n",
              "      width: 32px;\n",
              "    }\n",
              "\n",
              "    .colab-df-convert:hover {\n",
              "      background-color: #E2EBFA;\n",
              "      box-shadow: 0px 1px 2px rgba(60, 64, 67, 0.3), 0px 1px 3px 1px rgba(60, 64, 67, 0.15);\n",
              "      fill: #174EA6;\n",
              "    }\n",
              "\n",
              "    [theme=dark] .colab-df-convert {\n",
              "      background-color: #3B4455;\n",
              "      fill: #D2E3FC;\n",
              "    }\n",
              "\n",
              "    [theme=dark] .colab-df-convert:hover {\n",
              "      background-color: #434B5C;\n",
              "      box-shadow: 0px 1px 3px 1px rgba(0, 0, 0, 0.15);\n",
              "      filter: drop-shadow(0px 1px 2px rgba(0, 0, 0, 0.3));\n",
              "      fill: #FFFFFF;\n",
              "    }\n",
              "  </style>\n",
              "\n",
              "      <script>\n",
              "        const buttonEl =\n",
              "          document.querySelector('#df-1872995e-18bb-41ad-b3db-85b0cc937632 button.colab-df-convert');\n",
              "        buttonEl.style.display =\n",
              "          google.colab.kernel.accessAllowed ? 'block' : 'none';\n",
              "\n",
              "        async function convertToInteractive(key) {\n",
              "          const element = document.querySelector('#df-1872995e-18bb-41ad-b3db-85b0cc937632');\n",
              "          const dataTable =\n",
              "            await google.colab.kernel.invokeFunction('convertToInteractive',\n",
              "                                                     [key], {});\n",
              "          if (!dataTable) return;\n",
              "\n",
              "          const docLinkHtml = 'Like what you see? Visit the ' +\n",
              "            '<a target=\"_blank\" href=https://colab.research.google.com/notebooks/data_table.ipynb>data table notebook</a>'\n",
              "            + ' to learn more about interactive tables.';\n",
              "          element.innerHTML = '';\n",
              "          dataTable['output_type'] = 'display_data';\n",
              "          await google.colab.output.renderOutput(dataTable, element);\n",
              "          const docLink = document.createElement('div');\n",
              "          docLink.innerHTML = docLinkHtml;\n",
              "          element.appendChild(docLink);\n",
              "        }\n",
              "      </script>\n",
              "    </div>\n",
              "  </div>\n",
              "  "
            ]
          },
          "metadata": {},
          "execution_count": 7
        }
      ]
    },
    {
      "cell_type": "code",
      "source": [
        "raw_df.isnull().sum()"
      ],
      "metadata": {
        "id": "ZUdhSJhqHIg4",
        "outputId": "15c9ec03-abf4-4cbe-84d7-b288ef7ccec8",
        "colab": {
          "base_uri": "https://localhost:8080/"
        }
      },
      "execution_count": 8,
      "outputs": [
        {
          "output_type": "execute_result",
          "data": {
            "text/plain": [
              "Date         0\n",
              "Open         6\n",
              "High         6\n",
              "Low          6\n",
              "Close        6\n",
              "Adj Close    6\n",
              "Volume       6\n",
              "3MA          2\n",
              "5MA          4\n",
              "dtype: int64"
            ]
          },
          "metadata": {},
          "execution_count": 8
        }
      ]
    },
    {
      "cell_type": "code",
      "source": [
        "raw_df.loc[raw_df['Open'].isna()]"
      ],
      "metadata": {
        "id": "OZaSlk4_HIjR",
        "outputId": "e00043bf-ed20-4f96-f5b8-34399f2fdc31",
        "colab": {
          "base_uri": "https://localhost:8080/",
          "height": 238
        }
      },
      "execution_count": 9,
      "outputs": [
        {
          "output_type": "execute_result",
          "data": {
            "text/plain": [
              "            Date  Open  High  Low  Close  Adj Close  Volume           3MA  \\\n",
              "1304  2005-01-03   NaN   NaN  NaN    NaN        NaN     NaN   6989.931152   \n",
              "4513  2017-11-16   NaN   NaN  NaN    NaN        NaN     NaN  49382.673830   \n",
              "4518  2017-11-23   NaN   NaN  NaN    NaN        NaN     NaN  49373.792970   \n",
              "4542  2018-01-02   NaN   NaN  NaN    NaN        NaN     NaN  44927.763670   \n",
              "4755  2018-11-15   NaN   NaN  NaN    NaN        NaN     NaN  40569.835940   \n",
              "5000  2019-11-14   NaN   NaN  NaN    NaN        NaN     NaN  49695.419920   \n",
              "\n",
              "               5MA  \n",
              "1304   6910.412353  \n",
              "4513  49719.997070  \n",
              "4518  49324.969730  \n",
              "4542  44190.302730  \n",
              "4755  40775.886720  \n",
              "5000  49364.432620  "
            ],
            "text/html": [
              "\n",
              "  <div id=\"df-86748be8-4eda-4da2-90a8-156a246587f8\">\n",
              "    <div class=\"colab-df-container\">\n",
              "      <div>\n",
              "<style scoped>\n",
              "    .dataframe tbody tr th:only-of-type {\n",
              "        vertical-align: middle;\n",
              "    }\n",
              "\n",
              "    .dataframe tbody tr th {\n",
              "        vertical-align: top;\n",
              "    }\n",
              "\n",
              "    .dataframe thead th {\n",
              "        text-align: right;\n",
              "    }\n",
              "</style>\n",
              "<table border=\"1\" class=\"dataframe\">\n",
              "  <thead>\n",
              "    <tr style=\"text-align: right;\">\n",
              "      <th></th>\n",
              "      <th>Date</th>\n",
              "      <th>Open</th>\n",
              "      <th>High</th>\n",
              "      <th>Low</th>\n",
              "      <th>Close</th>\n",
              "      <th>Adj Close</th>\n",
              "      <th>Volume</th>\n",
              "      <th>3MA</th>\n",
              "      <th>5MA</th>\n",
              "    </tr>\n",
              "  </thead>\n",
              "  <tbody>\n",
              "    <tr>\n",
              "      <th>1304</th>\n",
              "      <td>2005-01-03</td>\n",
              "      <td>NaN</td>\n",
              "      <td>NaN</td>\n",
              "      <td>NaN</td>\n",
              "      <td>NaN</td>\n",
              "      <td>NaN</td>\n",
              "      <td>NaN</td>\n",
              "      <td>6989.931152</td>\n",
              "      <td>6910.412353</td>\n",
              "    </tr>\n",
              "    <tr>\n",
              "      <th>4513</th>\n",
              "      <td>2017-11-16</td>\n",
              "      <td>NaN</td>\n",
              "      <td>NaN</td>\n",
              "      <td>NaN</td>\n",
              "      <td>NaN</td>\n",
              "      <td>NaN</td>\n",
              "      <td>NaN</td>\n",
              "      <td>49382.673830</td>\n",
              "      <td>49719.997070</td>\n",
              "    </tr>\n",
              "    <tr>\n",
              "      <th>4518</th>\n",
              "      <td>2017-11-23</td>\n",
              "      <td>NaN</td>\n",
              "      <td>NaN</td>\n",
              "      <td>NaN</td>\n",
              "      <td>NaN</td>\n",
              "      <td>NaN</td>\n",
              "      <td>NaN</td>\n",
              "      <td>49373.792970</td>\n",
              "      <td>49324.969730</td>\n",
              "    </tr>\n",
              "    <tr>\n",
              "      <th>4542</th>\n",
              "      <td>2018-01-02</td>\n",
              "      <td>NaN</td>\n",
              "      <td>NaN</td>\n",
              "      <td>NaN</td>\n",
              "      <td>NaN</td>\n",
              "      <td>NaN</td>\n",
              "      <td>NaN</td>\n",
              "      <td>44927.763670</td>\n",
              "      <td>44190.302730</td>\n",
              "    </tr>\n",
              "    <tr>\n",
              "      <th>4755</th>\n",
              "      <td>2018-11-15</td>\n",
              "      <td>NaN</td>\n",
              "      <td>NaN</td>\n",
              "      <td>NaN</td>\n",
              "      <td>NaN</td>\n",
              "      <td>NaN</td>\n",
              "      <td>NaN</td>\n",
              "      <td>40569.835940</td>\n",
              "      <td>40775.886720</td>\n",
              "    </tr>\n",
              "    <tr>\n",
              "      <th>5000</th>\n",
              "      <td>2019-11-14</td>\n",
              "      <td>NaN</td>\n",
              "      <td>NaN</td>\n",
              "      <td>NaN</td>\n",
              "      <td>NaN</td>\n",
              "      <td>NaN</td>\n",
              "      <td>NaN</td>\n",
              "      <td>49695.419920</td>\n",
              "      <td>49364.432620</td>\n",
              "    </tr>\n",
              "  </tbody>\n",
              "</table>\n",
              "</div>\n",
              "      <button class=\"colab-df-convert\" onclick=\"convertToInteractive('df-86748be8-4eda-4da2-90a8-156a246587f8')\"\n",
              "              title=\"Convert this dataframe to an interactive table.\"\n",
              "              style=\"display:none;\">\n",
              "        \n",
              "  <svg xmlns=\"http://www.w3.org/2000/svg\" height=\"24px\"viewBox=\"0 0 24 24\"\n",
              "       width=\"24px\">\n",
              "    <path d=\"M0 0h24v24H0V0z\" fill=\"none\"/>\n",
              "    <path d=\"M18.56 5.44l.94 2.06.94-2.06 2.06-.94-2.06-.94-.94-2.06-.94 2.06-2.06.94zm-11 1L8.5 8.5l.94-2.06 2.06-.94-2.06-.94L8.5 2.5l-.94 2.06-2.06.94zm10 10l.94 2.06.94-2.06 2.06-.94-2.06-.94-.94-2.06-.94 2.06-2.06.94z\"/><path d=\"M17.41 7.96l-1.37-1.37c-.4-.4-.92-.59-1.43-.59-.52 0-1.04.2-1.43.59L10.3 9.45l-7.72 7.72c-.78.78-.78 2.05 0 2.83L4 21.41c.39.39.9.59 1.41.59.51 0 1.02-.2 1.41-.59l7.78-7.78 2.81-2.81c.8-.78.8-2.07 0-2.86zM5.41 20L4 18.59l7.72-7.72 1.47 1.35L5.41 20z\"/>\n",
              "  </svg>\n",
              "      </button>\n",
              "      \n",
              "  <style>\n",
              "    .colab-df-container {\n",
              "      display:flex;\n",
              "      flex-wrap:wrap;\n",
              "      gap: 12px;\n",
              "    }\n",
              "\n",
              "    .colab-df-convert {\n",
              "      background-color: #E8F0FE;\n",
              "      border: none;\n",
              "      border-radius: 50%;\n",
              "      cursor: pointer;\n",
              "      display: none;\n",
              "      fill: #1967D2;\n",
              "      height: 32px;\n",
              "      padding: 0 0 0 0;\n",
              "      width: 32px;\n",
              "    }\n",
              "\n",
              "    .colab-df-convert:hover {\n",
              "      background-color: #E2EBFA;\n",
              "      box-shadow: 0px 1px 2px rgba(60, 64, 67, 0.3), 0px 1px 3px 1px rgba(60, 64, 67, 0.15);\n",
              "      fill: #174EA6;\n",
              "    }\n",
              "\n",
              "    [theme=dark] .colab-df-convert {\n",
              "      background-color: #3B4455;\n",
              "      fill: #D2E3FC;\n",
              "    }\n",
              "\n",
              "    [theme=dark] .colab-df-convert:hover {\n",
              "      background-color: #434B5C;\n",
              "      box-shadow: 0px 1px 3px 1px rgba(0, 0, 0, 0.15);\n",
              "      filter: drop-shadow(0px 1px 2px rgba(0, 0, 0, 0.3));\n",
              "      fill: #FFFFFF;\n",
              "    }\n",
              "  </style>\n",
              "\n",
              "      <script>\n",
              "        const buttonEl =\n",
              "          document.querySelector('#df-86748be8-4eda-4da2-90a8-156a246587f8 button.colab-df-convert');\n",
              "        buttonEl.style.display =\n",
              "          google.colab.kernel.accessAllowed ? 'block' : 'none';\n",
              "\n",
              "        async function convertToInteractive(key) {\n",
              "          const element = document.querySelector('#df-86748be8-4eda-4da2-90a8-156a246587f8');\n",
              "          const dataTable =\n",
              "            await google.colab.kernel.invokeFunction('convertToInteractive',\n",
              "                                                     [key], {});\n",
              "          if (!dataTable) return;\n",
              "\n",
              "          const docLinkHtml = 'Like what you see? Visit the ' +\n",
              "            '<a target=\"_blank\" href=https://colab.research.google.com/notebooks/data_table.ipynb>data table notebook</a>'\n",
              "            + ' to learn more about interactive tables.';\n",
              "          element.innerHTML = '';\n",
              "          dataTable['output_type'] = 'display_data';\n",
              "          await google.colab.output.renderOutput(dataTable, element);\n",
              "          const docLink = document.createElement('div');\n",
              "          docLink.innerHTML = docLinkHtml;\n",
              "          element.appendChild(docLink);\n",
              "        }\n",
              "      </script>\n",
              "    </div>\n",
              "  </div>\n",
              "  "
            ]
          },
          "metadata": {},
          "execution_count": 9
        }
      ]
    },
    {
      "cell_type": "code",
      "source": [
        "raw_df['Volume'] = raw_df['Volume'].replace(0,np.nan)\n",
        "\n",
        "for col in raw_df.columns:\n",
        "  missing_rows = raw_df.loc[raw_df[col]==0].shape[0]\n",
        "  print(col + ':' + str(missing_rows))                          "
      ],
      "metadata": {
        "id": "Woqqe10RH9sQ",
        "outputId": "3473d0b4-ae3f-4d70-9db9-b3b46fcea02b",
        "colab": {
          "base_uri": "https://localhost:8080/"
        }
      },
      "execution_count": 10,
      "outputs": [
        {
          "output_type": "stream",
          "name": "stdout",
          "text": [
            "Date:0\n",
            "Open:0\n",
            "High:0\n",
            "Low:0\n",
            "Close:0\n",
            "Adj Close:0\n",
            "Volume:0\n",
            "3MA:0\n",
            "5MA:0\n"
          ]
        }
      ]
    },
    {
      "cell_type": "code",
      "source": [
        "raw_df.isnull().sum()"
      ],
      "metadata": {
        "id": "hqCBYtVPH9um",
        "outputId": "b7f7ffc6-f6a0-4a34-cc98-c92cb59f3e98",
        "colab": {
          "base_uri": "https://localhost:8080/"
        }
      },
      "execution_count": 11,
      "outputs": [
        {
          "output_type": "execute_result",
          "data": {
            "text/plain": [
              "Date           0\n",
              "Open           6\n",
              "High           6\n",
              "Low            6\n",
              "Close          6\n",
              "Adj Close      6\n",
              "Volume       122\n",
              "3MA            2\n",
              "5MA            4\n",
              "dtype: int64"
            ]
          },
          "metadata": {},
          "execution_count": 11
        }
      ]
    },
    {
      "cell_type": "code",
      "source": [
        "raw_df = raw_df.dropna()\n",
        "raw_df.isnull().sum()"
      ],
      "metadata": {
        "id": "PsQu88MAH9ym",
        "outputId": "786fccd4-7cf2-48ea-aa30-07be28b2c359",
        "colab": {
          "base_uri": "https://localhost:8080/"
        }
      },
      "execution_count": 12,
      "outputs": [
        {
          "output_type": "execute_result",
          "data": {
            "text/plain": [
              "Date         0\n",
              "Open         0\n",
              "High         0\n",
              "Low          0\n",
              "Close        0\n",
              "Adj Close    0\n",
              "Volume       0\n",
              "3MA          0\n",
              "5MA          0\n",
              "dtype: int64"
            ]
          },
          "metadata": {},
          "execution_count": 12
        }
      ]
    },
    {
      "cell_type": "code",
      "source": [
        "from sklearn.preprocessing import MinMaxScaler\n",
        "\n",
        "scaler = MinMaxScaler()\n",
        "\n",
        "scale_cols = scale_cols = ['Open', 'High', 'Low', 'Close', 'Adj Close',\n",
        "              '3MA', '5MA', 'Volume']\n",
        "\n",
        "scaled_df = scaler.fit_transform(raw_df[scale_cols])\n",
        "\n",
        "print(type(scaled_df), '\\n')\n",
        "\n",
        "scaled_df = pd.DataFrame(scaled_df, columns=scale_cols)\n",
        "\n",
        "print(scaled_df)\n"
      ],
      "metadata": {
        "id": "g-kt9WfhH91P",
        "outputId": "9f87113b-d770-4dec-9ee0-80d5068defc2",
        "colab": {
          "base_uri": "https://localhost:8080/"
        }
      },
      "execution_count": 13,
      "outputs": [
        {
          "output_type": "stream",
          "name": "stdout",
          "text": [
            "<class 'numpy.ndarray'> \n",
            "\n",
            "          Open      High       Low     Close  Adj Close       3MA       5MA  \\\n",
            "0     0.034868  0.032008  0.036288  0.034440   0.026655  0.025192  0.025698   \n",
            "1     0.037375  0.035517  0.038470  0.034440   0.026655  0.025634  0.025094   \n",
            "2     0.034982  0.031689  0.036518  0.033873   0.026217  0.026163  0.025343   \n",
            "3     0.034868  0.031689  0.036059  0.033760   0.026129  0.025987  0.025503   \n",
            "4     0.036235  0.033177  0.037437  0.035120   0.027181  0.026163  0.026018   \n",
            "...        ...       ...       ...       ...        ...       ...       ...   \n",
            "5264  0.891750  0.830923  0.896647  0.881047   0.885878  0.895299  0.903144   \n",
            "5265  0.892890  0.834113  0.897795  0.885578   0.890399  0.894920  0.900854   \n",
            "5266  0.899727  0.841557  0.903537  0.895774   0.900571  0.897955  0.902457   \n",
            "5267  0.895169  0.835177  0.898944  0.885578   0.890399  0.899472  0.902228   \n",
            "5268  0.895169  0.833050  0.896647  0.881047   0.885878  0.897955  0.901083   \n",
            "\n",
            "        Volume  \n",
            "0     0.285359  \n",
            "1     0.363715  \n",
            "2     0.177799  \n",
            "3     0.250704  \n",
            "4     0.300555  \n",
            "...        ...  \n",
            "5264  0.064088  \n",
            "5265  0.061199  \n",
            "5266  0.091190  \n",
            "5267  0.085145  \n",
            "5268  0.090683  \n",
            "\n",
            "[5269 rows x 8 columns]\n"
          ]
        }
      ]
    },
    {
      "cell_type": "code",
      "source": [
        "feature_cols = ['3MA', '5MA', 'Adj Close']\n",
        "label_cols =['Adj Close']\n",
        "\n",
        "label_df = pd.DataFrame(scaled_df, columns=label_cols)\n",
        "feature_df = pd.DataFrame(scaled_df, columns=feature_cols)\n",
        "\n",
        "print(feature_df)\n",
        "print(label_df)\n",
        "\n",
        "label_np = label_df.to_numpy()\n",
        "feature_np = feature_df.to_numpy()"
      ],
      "metadata": {
        "id": "zB6ESX4IH93A",
        "outputId": "9acb5ce2-85d7-4668-8bbd-a7111da03b5f",
        "colab": {
          "base_uri": "https://localhost:8080/"
        }
      },
      "execution_count": 14,
      "outputs": [
        {
          "output_type": "stream",
          "name": "stdout",
          "text": [
            "           3MA       5MA  Adj Close\n",
            "0     0.025192  0.025698   0.026655\n",
            "1     0.025634  0.025094   0.026655\n",
            "2     0.026163  0.025343   0.026217\n",
            "3     0.025987  0.025503   0.026129\n",
            "4     0.026163  0.026018   0.027181\n",
            "...        ...       ...        ...\n",
            "5264  0.895299  0.903144   0.885878\n",
            "5265  0.894920  0.900854   0.890399\n",
            "5266  0.897955  0.902457   0.900571\n",
            "5267  0.899472  0.902228   0.890399\n",
            "5268  0.897955  0.901083   0.885878\n",
            "\n",
            "[5269 rows x 3 columns]\n",
            "      Adj Close\n",
            "0      0.026655\n",
            "1      0.026655\n",
            "2      0.026217\n",
            "3      0.026129\n",
            "4      0.027181\n",
            "...         ...\n",
            "5264   0.885878\n",
            "5265   0.890399\n",
            "5266   0.900571\n",
            "5267   0.890399\n",
            "5268   0.885878\n",
            "\n",
            "[5269 rows x 1 columns]\n"
          ]
        }
      ]
    },
    {
      "cell_type": "code",
      "source": [
        "# 입력 파라미터 feature, label => numpy type\n",
        "\n",
        "def make_sequene_dataset(feature, label, window_size):\n",
        "\n",
        "    feature_list = []      # 생성될 feature list\n",
        "    label_list = []        # 생성될 label list\n",
        "\n",
        "    for i in range(len(feature)-window_size):\n",
        "\n",
        "        feature_list.append(feature[i:i+window_size])\n",
        "        label_list.append(label[i+window_size])\n",
        "\n",
        "    return np.array(feature_list), np.array(label_list)"
      ],
      "metadata": {
        "id": "Hbqk_7yvH95P"
      },
      "execution_count": 15,
      "outputs": []
    },
    {
      "cell_type": "code",
      "source": [
        "window_size = 40\n",
        "\n",
        "X, Y = make_sequene_dataset(feature_np, label_np, window_size)\n",
        "\n",
        "print(X.shape, Y.shape)"
      ],
      "metadata": {
        "id": "aWx2u6ljH97e",
        "outputId": "ebee3522-6495-4037-a499-085a35c57409",
        "colab": {
          "base_uri": "https://localhost:8080/"
        }
      },
      "execution_count": 16,
      "outputs": [
        {
          "output_type": "stream",
          "name": "stdout",
          "text": [
            "(5229, 40, 3) (5229, 1)\n"
          ]
        }
      ]
    },
    {
      "cell_type": "code",
      "source": [
        "# train, test 분리\n",
        "\n",
        "#split = int(len(X)*0.95)\n",
        "split = -200\n",
        "\n",
        "x_train = X[0:split]\n",
        "y_train = Y[0:split]\n",
        "\n",
        "x_test = X[split:]\n",
        "y_test = Y[split:]\n",
        "\n",
        "print(x_train.shape, y_train.shape)\n",
        "print(x_test.shape, y_test.shape)"
      ],
      "metadata": {
        "id": "9LQ2IynHH9-1",
        "outputId": "55720136-051d-4569-a1db-846409a0e81e",
        "colab": {
          "base_uri": "https://localhost:8080/"
        }
      },
      "execution_count": 17,
      "outputs": [
        {
          "output_type": "stream",
          "name": "stdout",
          "text": [
            "(5029, 40, 3) (5029, 1)\n",
            "(200, 40, 3) (200, 1)\n"
          ]
        }
      ]
    },
    {
      "cell_type": "code",
      "source": [
        "model = Sequential()\n",
        "\n",
        "model.add(GRU(256, activation='tanh', input_shape=x_train[0].shape))\n",
        "\n",
        "model.add(Dense(1, activation='linear'))\n",
        "\n",
        "model.summary()"
      ],
      "metadata": {
        "id": "VNrRdAvIMnAU",
        "outputId": "c7b109f6-ecec-4a01-efb1-2231bb20ca0c",
        "colab": {
          "base_uri": "https://localhost:8080/"
        }
      },
      "execution_count": 18,
      "outputs": [
        {
          "output_type": "stream",
          "name": "stdout",
          "text": [
            "Model: \"sequential\"\n",
            "_________________________________________________________________\n",
            " Layer (type)                Output Shape              Param #   \n",
            "=================================================================\n",
            " gru (GRU)                   (None, 256)               200448    \n",
            "                                                                 \n",
            " dense (Dense)               (None, 1)                 257       \n",
            "                                                                 \n",
            "=================================================================\n",
            "Total params: 200,705\n",
            "Trainable params: 200,705\n",
            "Non-trainable params: 0\n",
            "_________________________________________________________________\n"
          ]
        }
      ]
    },
    {
      "cell_type": "code",
      "source": [
        "from tensorflow.keras.callbacks import EarlyStopping\n",
        "\n",
        "model.compile(loss='mse', optimizer='adam', metrics=['mae'])\n",
        "\n",
        "early_stop = EarlyStopping(monitor='val_loss', patience=5)\n",
        "\n",
        "model.fit(x_train, y_train, validation_data=(x_test, y_test), epochs=100, batch_size=16, callbacks=[early_stop])"
      ],
      "metadata": {
        "id": "1Z1oiqLSMnFL",
        "outputId": "05da90ce-1149-4178-de71-99a663bef736",
        "colab": {
          "base_uri": "https://localhost:8080/"
        }
      },
      "execution_count": 19,
      "outputs": [
        {
          "output_type": "stream",
          "name": "stdout",
          "text": [
            "Epoch 1/100\n",
            "315/315 [==============================] - 11s 17ms/step - loss: 4.9108e-04 - mae: 0.0091 - val_loss: 4.4357e-04 - val_mae: 0.0155\n",
            "Epoch 2/100\n",
            "315/315 [==============================] - 5s 15ms/step - loss: 6.0771e-05 - mae: 0.0052 - val_loss: 0.0011 - val_mae: 0.0277\n",
            "Epoch 3/100\n",
            "315/315 [==============================] - 5s 15ms/step - loss: 5.4248e-05 - mae: 0.0050 - val_loss: 3.2409e-04 - val_mae: 0.0134\n",
            "Epoch 4/100\n",
            "315/315 [==============================] - 5s 15ms/step - loss: 4.6447e-05 - mae: 0.0046 - val_loss: 5.1578e-04 - val_mae: 0.0174\n",
            "Epoch 5/100\n",
            "315/315 [==============================] - 5s 15ms/step - loss: 4.2881e-05 - mae: 0.0044 - val_loss: 2.6227e-04 - val_mae: 0.0121\n",
            "Epoch 6/100\n",
            "315/315 [==============================] - 5s 15ms/step - loss: 4.6126e-05 - mae: 0.0046 - val_loss: 3.1601e-04 - val_mae: 0.0127\n",
            "Epoch 7/100\n",
            "315/315 [==============================] - 5s 15ms/step - loss: 3.4818e-05 - mae: 0.0040 - val_loss: 2.6628e-04 - val_mae: 0.0129\n",
            "Epoch 8/100\n",
            "315/315 [==============================] - 5s 15ms/step - loss: 3.8312e-05 - mae: 0.0042 - val_loss: 2.5568e-04 - val_mae: 0.0114\n",
            "Epoch 9/100\n",
            "315/315 [==============================] - 5s 15ms/step - loss: 4.1803e-05 - mae: 0.0045 - val_loss: 3.0599e-04 - val_mae: 0.0129\n",
            "Epoch 10/100\n",
            "315/315 [==============================] - 5s 17ms/step - loss: 3.0913e-05 - mae: 0.0037 - val_loss: 4.5516e-04 - val_mae: 0.0171\n",
            "Epoch 11/100\n",
            "315/315 [==============================] - 5s 16ms/step - loss: 3.3621e-05 - mae: 0.0039 - val_loss: 2.0112e-04 - val_mae: 0.0100\n",
            "Epoch 12/100\n",
            "315/315 [==============================] - 5s 15ms/step - loss: 2.8393e-05 - mae: 0.0036 - val_loss: 1.8975e-04 - val_mae: 0.0100\n",
            "Epoch 13/100\n",
            "315/315 [==============================] - 5s 15ms/step - loss: 3.7085e-05 - mae: 0.0043 - val_loss: 2.1033e-04 - val_mae: 0.0112\n",
            "Epoch 14/100\n",
            "315/315 [==============================] - 6s 18ms/step - loss: 2.8535e-05 - mae: 0.0036 - val_loss: 2.8961e-04 - val_mae: 0.0128\n",
            "Epoch 15/100\n",
            "315/315 [==============================] - 7s 23ms/step - loss: 3.1536e-05 - mae: 0.0038 - val_loss: 1.9197e-04 - val_mae: 0.0099\n",
            "Epoch 16/100\n",
            "315/315 [==============================] - 7s 22ms/step - loss: 3.1962e-05 - mae: 0.0039 - val_loss: 5.5522e-04 - val_mae: 0.0198\n",
            "Epoch 17/100\n",
            "315/315 [==============================] - 5s 15ms/step - loss: 3.2685e-05 - mae: 0.0040 - val_loss: 4.7176e-04 - val_mae: 0.0178\n"
          ]
        },
        {
          "output_type": "execute_result",
          "data": {
            "text/plain": [
              "<keras.callbacks.History at 0x7ff1d04cfbd0>"
            ]
          },
          "metadata": {},
          "execution_count": 19
        }
      ]
    },
    {
      "cell_type": "code",
      "source": [
        "pred = model.predict(x_test)\n",
        "\n",
        "plt.figure(figsize=(12, 6))\n",
        "plt.title('3MA + 5MA + Adj Close, window_size=40')\n",
        "plt.ylabel('adj close')\n",
        "plt.xlabel('period')\n",
        "plt.plot(y_test, label='actual')\n",
        "plt.plot(pred, label='prediction')\n",
        "plt.grid()\n",
        "plt.legend(loc='best')\n",
        "\n",
        "plt.show()"
      ],
      "metadata": {
        "id": "gIeVClVcMnIc",
        "outputId": "b284a0a4-9352-4586-de08-cb96daea381a",
        "colab": {
          "base_uri": "https://localhost:8080/",
          "height": 404
        }
      },
      "execution_count": 88,
      "outputs": [
        {
          "output_type": "display_data",
          "data": {
            "text/plain": [
              "<Figure size 864x432 with 1 Axes>"
            ],
            "image/png": "[encoded data removed]"
          },
          "metadata": {
            "needs_background": "light"
          }
        }
      ]
    },
    {
      "cell_type": "code",
      "source": [
        "# 평균절대값백분율오차계산 (MAPE)\n",
        "\n",
        "print( np.sum(abs(y_test-pred)/y_test) / len(x_test) )"
      ],
      "metadata": {
        "id": "oHotoiOAMnMj",
        "outputId": "f9f3cad3-6a34-4a39-eb55-5bb80d0deb24",
        "colab": {
          "base_uri": "https://localhost:8080/"
        }
      },
      "execution_count": 49,
      "outputs": [
        {
          "output_type": "stream",
          "name": "stdout",
          "text": [
            "0.01872856608150576\n"
          ]
        }
      ]
    },
    {
      "cell_type": "code",
      "source": [
        "ttest=raw_df['Adj Close']\n",
        "ttst=pd.DataFrame(ttest)\n",
        "tttst=ttst[-200:]\n",
        "print(pred.shape)\n",
        "print(y_test.shape)\n",
        "print(tttst.shape)\n",
        "\n",
        "ppred=pred*tttst/(y_test)\n",
        "\n",
        "print(ppred.shape)"
      ],
      "metadata": {
        "id": "zgxIqr3yQqxa",
        "outputId": "33da73e6-2971-4260-ca3d-c7ece226c4b1",
        "colab": {
          "base_uri": "https://localhost:8080/"
        }
      },
      "execution_count": 99,
      "outputs": [
        {
          "output_type": "stream",
          "name": "stdout",
          "text": [
            "(200, 1)\n",
            "(200, 1)\n",
            "(200, 1)\n",
            "(200, 1)\n"
          ]
        }
      ]
    },
    {
      "cell_type": "code",
      "source": [
        "plt.figure(figsize=(12, 6))\n",
        "plt.title('3MA + 5MA + Adj Close, window_size=40')\n",
        "plt.ylabel('adj close')\n",
        "plt.xlabel('period')\n",
        "plt.plot(tttst, label='actual')\n",
        "plt.plot(ppred, label='prediction')\n",
        "plt.grid()\n",
        "plt.legend(loc='best')\n",
        "\n",
        "plt.show()"
      ],
      "metadata": {
        "id": "gt0FVwzeRcLY",
        "outputId": "fd0a998f-fc09-49d5-8998-ae6fc09a44c4",
        "colab": {
          "base_uri": "https://localhost:8080/",
          "height": 404
        }
      },
      "execution_count": 101,
      "outputs": [
        {
          "output_type": "display_data",
          "data": {
            "text/plain": [
              "<Figure size 864x432 with 1 Axes>"
            ],
            "image/png": "[encoded data removed]"
          },
          "metadata": {
            "needs_background": "light"
          }
        }
      ]
    }
  ],
  "metadata": {
    "kernelspec": {
      "display_name": "Python 3",
      "language": "python",
      "name": "python3"
    },
    "language_info": {
      "codemirror_mode": {
        "name": "ipython",
        "version": 3
      },
      "file_extension": ".py",
      "mimetype": "text/x-python",
      "name": "python",
      "nbconvert_exporter": "python",
      "pygments_lexer": "ipython3",
      "version": "3.7.6"
    },
    "colab": {
      "name": "Untitled.ipynb",
      "provenance": [],
      "include_colab_link": true
    }
  },
  "nbformat": 4,
  "nbformat_minor": 0
}